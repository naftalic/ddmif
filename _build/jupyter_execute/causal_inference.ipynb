{
 "cells": [
  {
   "cell_type": "markdown",
   "id": "5350fbbe",
   "metadata": {},
   "source": [
    "# Causal Inference in Finance\n",
    "\n",
    "# Math background\n",
    "The expected value, also known as the population mean, of a random variable is calculated as the weighted average of all possible values that the variable can take, where the weights are given by the probabilities of each value's occurrence in the population.\n",
    "\n",
    "$$\n",
    "\\begin{align}\n",
    "  E(X) & = x_1p(x_1)+x_2p(x_2)+\\dots+x_kp(x_k) \\\\\n",
    "  & = \\sum_{j=1}^k x_jp(x_j).             \n",
    "\\end{align}\n",
    "$$\n",
    "\n",
    "The variance of a random variable in the population is defined as\n",
    "\n",
    "$$\n",
    "\\begin{align}\n",
    "   V(X)=\\sigma^2=E\\Big[\\big(X-E(X)\\big)^2\\Big]\\ =E(X^2) - E(X)^2\n",
    "\\end{align}\n",
    "The last identity follows from the fact that \n",
    "\\begin{align}\n",
    "E\\Big[\\big(X-E(X)\\big)^2\\Big]\\  =\n",
    "& = E\\Big[\\big(X^2-2XE(X)+E^2(X)\\big)\\Big]\\\n",
    "& = E(X^2)-2E(X)E(X)+E^2(X)\n",
    "& = E(X^2)-E^2(X).\n",
    "\\end{align}\n",
    "$$\n",
    "\n",
    "The variance of the sum of two random variables is equal to:\n",
    "$$\n",
    "\\begin{align}\n",
    "   V(X+Y)=V(X)+V(Y)+2C(X,Y)\n",
    "\\end{align}\n",
    "$$\n",
    "where C(X,Y) is the covariance measuring the amount of linear dependence between two random variables X and Y."
   ]
  }
 ],
 "metadata": {
  "jupytext": {
   "cell_metadata_filter": "-all",
   "formats": "md:myst",
   "text_representation": {
    "extension": ".md",
    "format_name": "myst",
    "format_version": 0.13,
    "jupytext_version": "1.11.5"
   }
  },
  "kernelspec": {
   "display_name": "Python 3",
   "language": "python",
   "name": "python3"
  },
  "language_info": {
   "codemirror_mode": {
    "name": "ipython",
    "version": 3
   },
   "file_extension": ".py",
   "mimetype": "text/x-python",
   "name": "python",
   "nbconvert_exporter": "python",
   "pygments_lexer": "ipython3",
   "version": "3.8.13"
  },
  "source_map": [
   14
  ]
 },
 "nbformat": 4,
 "nbformat_minor": 5
}