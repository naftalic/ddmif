{
 "cells": [
  {
   "cell_type": "markdown",
   "id": "6b46ee7d",
   "metadata": {},
   "source": [
    "# Practical Optimization\n",
    "\n",
    "Let us consider the following simple Linear Programing Model:\n",
    "\n",
    "$$\n",
    "\\begin{align*}\n",
    "&\\text{Maximize}\\quad 2x + 3y\n",
    "&\\text{Subject to:}\n",
    "x + y \\le 4\\\\\n",
    "x \\ge 0\\\\\n",
    "y \\ge 0\\\\\n",
    "\\end{align*}\n",
    "$$\n",
    "\n",
    "To solve this problem using cvxpy, gurobipy, and mosek, we will need to install these libraries first. Here are the installation commands for each library using pip:\n",
    "\n",
    "\n",
    "Once we have these libraries installed, we can write the code to solve the LP model using each of them.\n",
    "\n",
    "## Using cvxpy"
   ]
  },
  {
   "cell_type": "code",
   "execution_count": 1,
   "id": "78bd42cd",
   "metadata": {},
   "outputs": [
    {
     "name": "stdout",
     "output_type": "stream",
     "text": [
      "Optimal value of x: 0.0\n",
      "Optimal value of y: 4.0\n"
     ]
    }
   ],
   "source": [
    "import cvxpy as cp\n",
    "\n",
    "# Define the variables\n",
    "x = cp.Variable()\n",
    "y = cp.Variable()\n",
    "\n",
    "# Define the objective function\n",
    "objective = cp.Maximize(2*x + 3*y)\n",
    "\n",
    "# Define the constraints\n",
    "constraints = [\n",
    "    x + y <= 4,\n",
    "    x >= 0,\n",
    "    y >= 0\n",
    "]\n",
    "\n",
    "# Define the problem\n",
    "problem = cp.Problem(objective, constraints)\n",
    "\n",
    "# Solve the problem\n",
    "problem.solve()\n",
    "\n",
    "# Print the optimal values of x and y\n",
    "print(\"Optimal value of x:\", x.value)\n",
    "print(\"Optimal value of y:\", y.value)"
   ]
  }
 ],
 "metadata": {
  "jupytext": {
   "cell_metadata_filter": "-all",
   "formats": "md:myst",
   "text_representation": {
    "extension": ".md",
    "format_name": "myst",
    "format_version": 0.13,
    "jupytext_version": "1.11.5"
   }
  },
  "kernelspec": {
   "display_name": "Python 3",
   "language": "python",
   "name": "python3"
  },
  "language_info": {
   "codemirror_mode": {
    "name": "ipython",
    "version": 3
   },
   "file_extension": ".py",
   "mimetype": "text/x-python",
   "name": "python",
   "nbconvert_exporter": "python",
   "pygments_lexer": "ipython3",
   "version": "3.10.9"
  },
  "source_map": [
   14,
   37
  ]
 },
 "nbformat": 4,
 "nbformat_minor": 5
}