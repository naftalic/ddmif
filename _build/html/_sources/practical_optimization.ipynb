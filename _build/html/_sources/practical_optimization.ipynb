{
 "cells": [
  {
   "cell_type": "markdown",
   "id": "618af3ee",
   "metadata": {},
   "source": [
    "# Practical Optimization\n",
    "\n",
    "Let us consider the following simple Linear Programing Model:\n",
    "\n",
    "$$\n",
    "&\\text{Maximize}\\quad 2x + 3y\n",
    "&\\text{Subject to:}\n",
    "x + y \\le 4\\\\\n",
    "x \\ge 0\\\\\n",
    "y \\ge 0\\\\\n",
    "$$\n",
    "\n",
    "To solve this problem using cvxpy, gurobipy, and mosek, we will need to install these libraries first. Here are the installation commands for each library using pip:"
   ]
  },
  {
   "cell_type": "code",
   "execution_count": 1,
   "id": "0e3b7255",
   "metadata": {},
   "outputs": [
    {
     "ename": "SyntaxError",
     "evalue": "invalid syntax (211323114.py, line 1)",
     "output_type": "error",
     "traceback": [
      "\u001b[0;36m  Cell \u001b[0;32mIn[1], line 1\u001b[0;36m\u001b[0m\n\u001b[0;31m    pip install cvxpy\u001b[0m\n\u001b[0m        ^\u001b[0m\n\u001b[0;31mSyntaxError\u001b[0m\u001b[0;31m:\u001b[0m invalid syntax\n"
     ]
    }
   ],
   "source": [
    "pip install cvxpy\n",
    "pip install gurobipy\n",
    "pip install mosek"
   ]
  },
  {
   "cell_type": "markdown",
   "id": "7328243b",
   "metadata": {},
   "source": [
    "Once we have these libraries installed, we can write the code to solve the LP model using each of them.\n",
    "## Using cvxpy"
   ]
  },
  {
   "cell_type": "code",
   "execution_count": null,
   "id": "0dca7a7d",
   "metadata": {},
   "outputs": [],
   "source": [
    "import cvxpy as cp\n",
    "\n",
    "# Define the variables\n",
    "x = cp.Variable()\n",
    "y = cp.Variable()\n",
    "\n",
    "# Define the objective function\n",
    "objective = cp.Maximize(2*x + 3*y)\n",
    "\n",
    "# Define the constraints\n",
    "constraints = [\n",
    "    x + y <= 4,\n",
    "    x >= 0,\n",
    "    y >= 0\n",
    "]\n",
    "\n",
    "# Define the problem\n",
    "problem = cp.Problem(objective, constraints)\n",
    "\n",
    "# Solve the problem\n",
    "problem.solve()\n",
    "\n",
    "# Print the optimal values of x and y\n",
    "print(\"Optimal value of x:\", x.value)\n",
    "print(\"Optimal value of y:\", y.value)"
   ]
  }
 ],
 "metadata": {
  "jupytext": {
   "cell_metadata_filter": "-all",
   "formats": "md:myst",
   "text_representation": {
    "extension": ".md",
    "format_name": "myst",
    "format_version": 0.13,
    "jupytext_version": "1.11.5"
   }
  },
  "kernelspec": {
   "display_name": "Python 3",
   "language": "python",
   "name": "python3"
  },
  "language_info": {
   "codemirror_mode": {
    "name": "ipython",
    "version": 3
   },
   "file_extension": ".py",
   "mimetype": "text/x-python",
   "name": "python",
   "nbconvert_exporter": "python",
   "pygments_lexer": "ipython3",
   "version": "3.10.9"
  },
  "source_map": [
   14,
   30,
   34,
   38
  ]
 },
 "nbformat": 4,
 "nbformat_minor": 5
}