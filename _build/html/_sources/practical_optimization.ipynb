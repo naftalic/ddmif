{
 "cells": [
  {
   "cell_type": "markdown",
   "id": "c937d295",
   "metadata": {},
   "source": [
    "# Practical Optimization\n",
    "\n",
    "Let us consider the following simple Linear Programing Model:\n",
    "\n",
    "$$\n",
    "\\begin{align*}\n",
    "&\\text{Maximize}\\quad &2x + 3y\\\\\n",
    "&\\text{Subject to:}\n",
    "&x + y \\le 4\\\\\n",
    "&&x \\ge 0\\\\\n",
    "&&y \\ge 0\\\\\n",
    "\\end{align*}\n",
    "$$\n",
    "\n",
    "To solve this problem using cvxpy, gurobipy, and mosek, we will need to install these libraries first. Here are the installation commands for each library using pip:\n",
    "\n",
    "\n",
    "Once we have these libraries installed, we can write the code to solve the LP model using each of them.\n",
    "\n",
    "## Using CVXPY"
   ]
  },
  {
   "cell_type": "code",
   "execution_count": 1,
   "id": "83589187",
   "metadata": {},
   "outputs": [
    {
     "name": "stdout",
     "output_type": "stream",
     "text": [
      "Optimal value of x: 0.0\n",
      "Optimal value of y: 4.0\n"
     ]
    }
   ],
   "source": [
    "import cvxpy as cp\n",
    "\n",
    "# Define the variables\n",
    "x = cp.Variable()\n",
    "y = cp.Variable()\n",
    "\n",
    "# Define the objective function\n",
    "objective = cp.Maximize(2*x + 3*y)\n",
    "\n",
    "# Define the constraints\n",
    "constraints = [\n",
    "    x + y <= 4,\n",
    "    x >= 0,\n",
    "    y >= 0\n",
    "]\n",
    "\n",
    "# Define the problem\n",
    "problem = cp.Problem(objective, constraints)\n",
    "\n",
    "# Solve the problem\n",
    "problem.solve()\n",
    "\n",
    "# Print the optimal values of x and y\n",
    "print(\"Optimal value of x:\", x.value)\n",
    "print(\"Optimal value of y:\", y.value)"
   ]
  },
  {
   "cell_type": "markdown",
   "id": "b4544aad",
   "metadata": {},
   "source": [
    "## Using Gurobipy"
   ]
  },
  {
   "cell_type": "code",
   "execution_count": 2,
   "id": "c02ed2c9",
   "metadata": {},
   "outputs": [
    {
     "name": "stdout",
     "output_type": "stream",
     "text": [
      "Restricted license - for non-production use only - expires 2024-10-28\n"
     ]
    },
    {
     "name": "stdout",
     "output_type": "stream",
     "text": [
      "Gurobi Optimizer version 10.0.1 build v10.0.1rc0 (mac64[arm])\n"
     ]
    },
    {
     "name": "stdout",
     "output_type": "stream",
     "text": [
      "\n"
     ]
    },
    {
     "name": "stdout",
     "output_type": "stream",
     "text": [
      "CPU model: Apple M1 Pro\n"
     ]
    },
    {
     "name": "stdout",
     "output_type": "stream",
     "text": [
      "Thread count: 10 physical cores, 10 logical processors, using up to 10 threads\n"
     ]
    },
    {
     "name": "stdout",
     "output_type": "stream",
     "text": [
      "\n"
     ]
    },
    {
     "name": "stdout",
     "output_type": "stream",
     "text": [
      "Optimize a model with 1 rows, 2 columns and 2 nonzeros\n"
     ]
    },
    {
     "name": "stdout",
     "output_type": "stream",
     "text": [
      "Model fingerprint: 0xcb2c77f1\n"
     ]
    },
    {
     "name": "stdout",
     "output_type": "stream",
     "text": [
      "Coefficient statistics:\n"
     ]
    },
    {
     "name": "stdout",
     "output_type": "stream",
     "text": [
      "  Matrix range     [1e+00, 1e+00]\n"
     ]
    },
    {
     "name": "stdout",
     "output_type": "stream",
     "text": [
      "  Objective range  [2e+00, 3e+00]\n"
     ]
    },
    {
     "name": "stdout",
     "output_type": "stream",
     "text": [
      "  Bounds range     [0e+00, 0e+00]\n"
     ]
    },
    {
     "name": "stdout",
     "output_type": "stream",
     "text": [
      "  RHS range        [4e+00, 4e+00]\n"
     ]
    },
    {
     "name": "stdout",
     "output_type": "stream",
     "text": [
      "Presolve removed 1 rows and 2 columns\n"
     ]
    },
    {
     "name": "stdout",
     "output_type": "stream",
     "text": [
      "Presolve time: 0.00s\n"
     ]
    },
    {
     "name": "stdout",
     "output_type": "stream",
     "text": [
      "Presolve: All rows and columns removed\n"
     ]
    },
    {
     "name": "stdout",
     "output_type": "stream",
     "text": [
      "Iteration    Objective       Primal Inf.    Dual Inf.      Time\n"
     ]
    },
    {
     "name": "stdout",
     "output_type": "stream",
     "text": [
      "       0    1.2000000e+01   0.000000e+00   0.000000e+00      0s\n"
     ]
    },
    {
     "name": "stdout",
     "output_type": "stream",
     "text": [
      "\n"
     ]
    },
    {
     "name": "stdout",
     "output_type": "stream",
     "text": [
      "Solved in 0 iterations and 0.00 seconds (0.00 work units)\n"
     ]
    },
    {
     "name": "stdout",
     "output_type": "stream",
     "text": [
      "Optimal objective  1.200000000e+01\n"
     ]
    },
    {
     "name": "stdout",
     "output_type": "stream",
     "text": [
      "Optimal value of x: 0.0\n",
      "Optimal value of y: 4.0\n"
     ]
    }
   ],
   "source": [
    "import gurobipy as gp\n",
    "\n",
    "# Create a new model\n",
    "model = gp.Model()\n",
    "\n",
    "# Define the variables\n",
    "x = model.addVar(lb=0, name=\"x\")\n",
    "y = model.addVar(lb=0, name=\"y\")\n",
    "\n",
    "# Define the objective function\n",
    "objective = 2*x + 3*y\n",
    "\n",
    "# Add the objective function to the model\n",
    "model.setObjective(objective, gp.GRB.MAXIMIZE)\n",
    "\n",
    "# Add the constraints\n",
    "model.addConstr(x + y <= 4, \"c1\")\n",
    "\n",
    "# Optimize the model\n",
    "model.optimize()\n",
    "\n",
    "# Print the optimal values of x and y\n",
    "print(\"Optimal value of x:\", x.x)\n",
    "print(\"Optimal value of y:\", y.x)"
   ]
  },
  {
   "cell_type": "markdown",
   "id": "da40570f",
   "metadata": {},
   "source": [
    "## Using Mosek"
   ]
  }
 ],
 "metadata": {
  "jupytext": {
   "cell_metadata_filter": "-all",
   "formats": "md:myst",
   "text_representation": {
    "extension": ".md",
    "format_name": "myst",
    "format_version": 0.13,
    "jupytext_version": "1.11.5"
   }
  },
  "kernelspec": {
   "display_name": "Python 3",
   "language": "python",
   "name": "python3"
  },
  "language_info": {
   "codemirror_mode": {
    "name": "ipython",
    "version": 3
   },
   "file_extension": ".py",
   "mimetype": "text/x-python",
   "name": "python",
   "nbconvert_exporter": "python",
   "pygments_lexer": "ipython3",
   "version": "3.10.9"
  },
  "source_map": [
   14,
   37,
   63,
   67,
   92
  ]
 },
 "nbformat": 4,
 "nbformat_minor": 5
}