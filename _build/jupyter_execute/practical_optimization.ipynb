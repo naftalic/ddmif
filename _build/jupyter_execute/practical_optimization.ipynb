{
 "cells": [
  {
   "cell_type": "markdown",
   "id": "dba61acc",
   "metadata": {},
   "source": [
    "# Practical Optimization\n",
    "\n",
    "Let us consider the following simple Linear Programing (LP) model for a company that produces two products, Product A and Product B:\n",
    "\n",
    "Product A requires 2 hours of labor and 3 pounds of material to produce one unit. The company has 80 hours of labor available and 120 pounds of material available.\n",
    "Product B requires 3 hours of labor and 2 pounds of material to produce one unit. The company has 60 hours of labor available and 100 pounds of material available.\n",
    "The profit for each unit of Product A is $5, and the profit for each unit of Product B is $4.\n",
    "The objective is to maximize the company's profit subject to the available resources. Let's call the number of units of Product A produced $x_1$ and the number of units of Product B produced $x_2$. Then, the LP model is:\n",
    "\n",
    "$$\n",
    "\\begin{align*}\n",
    "&\\text{Maximize} &5x1 + 4x2 \\\\\n",
    "&\\text{Subject to}\n",
    "&2x1 + 3x2 <= 80 \\quad\\text{(labor constraint for Product A)} \\\\\n",
    "&&3x1 + 2x2 <= 60 \\quad\\text{(labor constraint for Product B)} \\\\\n",
    "&&3x1 + 2x2 <= 100 \\quad\\text{(material constraint for both products)} \\\\\n",
    "&&x1, x2 >= 0 \\quad\\text{(non-negativity constraint)}\n",
    "$$\n",
    "\n",
    "Now, let's solve this LP model using cvxpy, gurobipy, and mosek in Python\n",
    "\n",
    "# Using cvxpy"
   ]
  },
  {
   "cell_type": "code",
   "execution_count": 1,
   "id": "89a4473e",
   "metadata": {},
   "outputs": [
    {
     "name": "stdout",
     "output_type": "stream",
     "text": [
      "Optimal value: 115.99999999625518\n",
      "Optimal solution: [ 4. 24.]\n"
     ]
    }
   ],
   "source": [
    "import cvxpy as cp\n",
    "\n",
    "x = cp.Variable(2, nonneg=True)\n",
    "objective = cp.Maximize(5*x[0] + 4*x[1])\n",
    "constraints = [2*x[0] + 3*x[1] <= 80,\n",
    "               3*x[0] + 2*x[1] <= 60,\n",
    "               3*x[0] + 2*x[1] <= 100]\n",
    "prob = cp.Problem(objective, constraints)\n",
    "prob.solve()\n",
    "\n",
    "print(\"Optimal value:\", prob.value)\n",
    "print(\"Optimal solution:\", x.value)"
   ]
  },
  {
   "cell_type": "markdown",
   "id": "15e96b88",
   "metadata": {},
   "source": [
    "# Using gurobipy"
   ]
  },
  {
   "cell_type": "code",
   "execution_count": 2,
   "id": "49f41a8f",
   "metadata": {},
   "outputs": [
    {
     "name": "stdout",
     "output_type": "stream",
     "text": [
      "Restricted license - for non-production use only - expires 2024-10-28\n"
     ]
    },
    {
     "name": "stdout",
     "output_type": "stream",
     "text": [
      "Optimal value: 116.00000000000001\n",
      "Optimal solution: [4.000000000000003, 24.0]\n"
     ]
    }
   ],
   "source": [
    "import gurobipy as gp\n",
    "\n",
    "model = gp.Model()\n",
    "model.setParam('OutputFlag', 0)\n",
    "\n",
    "x = model.addVars(2, lb=0, vtype=gp.GRB.CONTINUOUS)\n",
    "objective = 5*x[0] + 4*x[1]\n",
    "model.setObjective(objective, sense=gp.GRB.MAXIMIZE)\n",
    "model.addConstr(2*x[0] + 3*x[1] <= 80)\n",
    "model.addConstr(3*x[0] + 2*x[1] <= 60)\n",
    "model.addConstr(3*x[0] + 2*x[1] <= 100)\n",
    "model.optimize()\n",
    "\n",
    "print(\"Optimal value:\", model.objVal)\n",
    "print(\"Optimal solution:\", [x[i].x for i in range(2)])"
   ]
  },
  {
   "cell_type": "markdown",
   "id": "271d04f9",
   "metadata": {},
   "source": [
    "# Using mosek"
   ]
  },
  {
   "cell_type": "code",
   "execution_count": 3,
   "id": "c636ed93",
   "metadata": {},
   "outputs": [
    {
     "name": "stdout",
     "output_type": "stream",
     "text": [
      "Optimal value: 116.0\n",
      "Optimal solution: [ 4. 24.]\n"
     ]
    }
   ],
   "source": [
    "import mosek.fusion as mf\n",
    "\n",
    "# Create a Mosek Fusion environment\n",
    "M = mf.Model('LP example')\n",
    "\n",
    "# Define variables\n",
    "x = M.variable('x', 2, mf.Domain.greaterThan(0.0))\n",
    "\n",
    "# Define objective\n",
    "c = [5.0, 4.0]\n",
    "M.objective('obj', mf.ObjectiveSense.Maximize, mf.Expr.dot(c, x))\n",
    "\n",
    "# Define constraints\n",
    "A = [[2.0, 3.0], [3.0, 2.0], [3.0, 2.0]]\n",
    "b = [80.0, 60.0, 100.0]\n",
    "for i in range(len(A)):\n",
    "    M.constraint('c{}'.format(i), mf.Expr.dot(A[i], x), mf.Domain.lessThan(b[i]))\n",
    "\n",
    "# Solve the problem\n",
    "M.solve()\n",
    "\n",
    "# Print the results\n",
    "\n",
    "print(\"Optimal value:\", M.primalObjValue()) \n",
    "print(\"Optimal solution:\", x.level())"
   ]
  }
 ],
 "metadata": {
  "jupytext": {
   "cell_metadata_filter": "-all",
   "formats": "md:myst",
   "text_representation": {
    "extension": ".md",
    "format_name": "myst",
    "format_version": 0.13,
    "jupytext_version": "1.11.5"
   }
  },
  "kernelspec": {
   "display_name": "Python 3",
   "language": "python",
   "name": "python3"
  },
  "language_info": {
   "codemirror_mode": {
    "name": "ipython",
    "version": 3
   },
   "file_extension": ".py",
   "mimetype": "text/x-python",
   "name": "python",
   "nbconvert_exporter": "python",
   "pygments_lexer": "ipython3",
   "version": "3.10.9"
  },
  "source_map": [
   14,
   39,
   52,
   56,
   72,
   75
  ]
 },
 "nbformat": 4,
 "nbformat_minor": 5
}