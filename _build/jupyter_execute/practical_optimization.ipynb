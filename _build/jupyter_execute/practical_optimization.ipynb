{
 "cells": [
  {
   "cell_type": "markdown",
   "id": "07b11fdd",
   "metadata": {},
   "source": [
    "# A1) Hands-on Optimization\n",
    "Optimization is a powerful tool that is widely used in practice to solve real-world problems. Optimization problems arise in a variety of fields such as finance, engineering, operations research, and machine learning. These problems often involve decision-making under constraints, where one needs to find the best possible solution given the available resources.\n",
    "\n",
    "By using optimization techniques, we can identify the optimal solution that satisfies the given constraints and minimizes or maximizes the objective function. This allows us to make better decisions and achieve our desired outcomes more efficiently.\n",
    "\n",
    "In finance, optimization is used to solve problems such as portfolio optimization, asset allocation, and risk management. In engineering, optimization is used to design and optimize systems such as transportation networks, communication systems, and manufacturing processes. In operations research, optimization is used to solve problems such as production planning, inventory management, and supply chain optimization.\n",
    "\n",
    "Optimization is also widely used in machine learning to train models and make predictions. In machine learning, optimization techniques are used to find the optimal parameters of a model that best fits the data and minimizes the error.\n",
    "\n",
    "In this chapter, we will discuss examples of linear programming (LP), binary optimization, and mixed-integer programming (MIP).\n",
    "We will introduce the widely used optimization libraries such as CVXPY, GurobiPy, and Mosek Fusion that can be used to solve optimization problems effectively. These libraries provide user-friendly interfaces to model and solve optimization problems using a variety of algorithms and solvers.\n",
    "\n",
    "First, we will discuss LP, which is a technique to optimize a linear objective function subject to linear constraints. \n",
    "Next, we will cover binary optimization, which involves decision-making in scenarios where the variables can only take binary values of 0 or 1. \n",
    "Lastly, we will delve into mixed-integer programming, which involves optimization problems where some or all of the variables can take both continuous and discrete values.\n",
    "\n",
    "# Simple Linear Programing model\n",
    "Let's consider a simple example of a company that produces two products, Product A and Product B, to illustrate the usefulness of optimization in practice.\n",
    "\n",
    "To produce one unit of Product A, the company requires 2 hours of labor and 3 pounds of material. The company has 80 hours of labor available and 120 pounds of material available. To produce one unit of Product B, the company requires 3 hours of labor and 2 pounds of material. The company has 60 hours of labor available and 100 pounds of material available. The profit for each unit of Product A is \\$5, and the profit for each unit of Product B is \\$4. The objective is to maximize the company's profit subject to the available resources.\n",
    "\n",
    "Optimization is useful in practice because it helps us make better decisions by finding the best possible solution to a problem given certain constraints. In this case, the LP model helps us determine the optimal number of units of Product A and Product B that the company should produce to maximize its profit while staying within the available resources.\n",
    "\n",
    "Let's call the number of units of Product A produced $x_1$ and the number of units of Product B produced $x_2$. Then, the LP model is:\n",
    "\n",
    "$$\n",
    "\\begin{aligned}\n",
    "&\\text{Maximize } &&5x_1 + 4x_2 \\\\\n",
    "&\\text{Subject to } &&2x_1 + 3x_2 \\le 80 &&\\text{(labor constraint for Product A)} \\\\\n",
    "&&&3x_1 + 2x_2 \\le 60 &&\\text{(labor constraint for Product B)} \\\\\n",
    "&&&3x_1 + 2x_2 \\le 100 &&\\text{(material constraint for both products)} \\\\\n",
    "&&&x_1, x_2 \\ge 0 &&\\text{(non-negativity constraint)}\n",
    "\\end{aligned}\n",
    "$$\n",
    "\n",
    "We can use various optimization solvers such as CVXPY, GUROBIPY, and MOSEK in Python to solve this LP model and find the optimal solution.\n",
    "\n",
    "## Using CVXPY"
   ]
  },
  {
   "cell_type": "code",
   "execution_count": 1,
   "id": "d17e3592",
   "metadata": {},
   "outputs": [
    {
     "name": "stdout",
     "output_type": "stream",
     "text": [
      "Optimal value: 115.99999999625518\n",
      "Optimal solution: [ 4. 24.]\n"
     ]
    }
   ],
   "source": [
    "import cvxpy as cp\n",
    "import numpy as np\n",
    "\n",
    "x = cp.Variable(2, nonneg=True)\n",
    "objective = cp.Maximize(5*x[0] + 4*x[1])\n",
    "constraints = [2*x[0] + 3*x[1] <= 80,\n",
    "               3*x[0] + 2*x[1] <= 60,\n",
    "               3*x[0] + 2*x[1] <= 100]\n",
    "prob = cp.Problem(objective, constraints)\n",
    "prob.solve()\n",
    "\n",
    "print(\"Optimal value:\", prob.value)\n",
    "print(\"Optimal solution:\", x.value)"
   ]
  },
  {
   "cell_type": "markdown",
   "id": "e349249c",
   "metadata": {},
   "source": [
    "## Using GUROBIPY"
   ]
  },
  {
   "cell_type": "code",
   "execution_count": 2,
   "id": "3641d18f",
   "metadata": {},
   "outputs": [
    {
     "name": "stdout",
     "output_type": "stream",
     "text": [
      "Restricted license - for non-production use only - expires 2024-10-28\n"
     ]
    },
    {
     "name": "stdout",
     "output_type": "stream",
     "text": [
      "Optimal value: 116.00000000000001\n",
      "Optimal solution: [4.000000000000003, 24.0]\n"
     ]
    }
   ],
   "source": [
    "import gurobipy as gp\n",
    "\n",
    "model = gp.Model()\n",
    "model.setParam('OutputFlag', 0)\n",
    "\n",
    "x = model.addVars(2, lb=0, vtype=gp.GRB.CONTINUOUS)\n",
    "objective = 5*x[0] + 4*x[1]\n",
    "model.setObjective(objective, sense=gp.GRB.MAXIMIZE)\n",
    "model.addConstr(2*x[0] + 3*x[1] <= 80)\n",
    "model.addConstr(3*x[0] + 2*x[1] <= 60)\n",
    "model.addConstr(3*x[0] + 2*x[1] <= 100)\n",
    "model.optimize()\n",
    "\n",
    "print(\"Optimal value:\", model.objVal)\n",
    "print(\"Optimal solution:\", [x[i].x for i in range(2)])"
   ]
  },
  {
   "cell_type": "markdown",
   "id": "0871696a",
   "metadata": {},
   "source": [
    "## Using MOSEK"
   ]
  },
  {
   "cell_type": "code",
   "execution_count": 3,
   "id": "45229600",
   "metadata": {},
   "outputs": [
    {
     "name": "stdout",
     "output_type": "stream",
     "text": [
      "Optimal value: 116.0\n",
      "Optimal solution: [ 4. 24.]\n"
     ]
    }
   ],
   "source": [
    "import mosek.fusion as mf\n",
    "\n",
    "M = mf.Model('LP example')\n",
    "\n",
    "# Define variables\n",
    "x = M.variable('x', 2, mf.Domain.greaterThan(0.0))\n",
    "\n",
    "# Define objective\n",
    "c = [5.0, 4.0]\n",
    "M.objective('obj', mf.ObjectiveSense.Maximize, mf.Expr.dot(c, x))\n",
    "\n",
    "# Define constraints\n",
    "A = [[2.0, 3.0], [3.0, 2.0], [3.0, 2.0]]\n",
    "b = [80.0, 60.0, 100.0]\n",
    "for i in range(len(A)):\n",
    "    M.constraint('c{}'.format(i), mf.Expr.dot(A[i], x), mf.Domain.lessThan(b[i]))\n",
    "\n",
    "# Solve the problem\n",
    "M.solve()\n",
    "\n",
    "# Print the results\n",
    "\n",
    "print(\"Optimal value:\", M.primalObjValue()) \n",
    "print(\"Optimal solution:\", x.level())"
   ]
  },
  {
   "cell_type": "markdown",
   "id": "d9114349",
   "metadata": {},
   "source": [
    "# Binary optimization problem \n",
    "In optimization, one of the most common types of problems is the Mixed Integer Programming (MIP) problem. This is a mathematical optimization problem where some of the variables are restricted to be integers. Binary Optimization, where the variables can only take on values of 0 or 1, is a special case of MIP.\n",
    "\n",
    "In this context, we will solve a binary optimization problem using CVXPY and GUROBI. The problem is to minimize the objective function $x_1 + x_2 + x_3$, subject to the constraints $x_1 + x_2 \\ge 2$, $x_2 + x_3 \\le 1$, and $x_1, x_2, x_3$ are binary variables. \n",
    "\n",
    "## Using CVXPY + GUROBI\n",
    "$$\n",
    "\\begin{aligned}\n",
    "&\\text{minimize } &&x_1 + x_2 + x_3 \\\\\n",
    "&\\text{subject to } &&x_1 + x_2 \\ge 2 \\\\\n",
    "&&&x_2 + x_3 \\le 1 \\\\\n",
    "&&&x_1, x_2, x_3 \\text{ are binary variables}\n",
    "\\end{aligned}\n",
    "$$"
   ]
  },
  {
   "cell_type": "code",
   "execution_count": 4,
   "id": "2e1cf393",
   "metadata": {},
   "outputs": [
    {
     "name": "stdout",
     "output_type": "stream",
     "text": [
      "CVXPY + GUROBI Solution:\n",
      "status: optimal\n",
      "optimal value: 2.0\n",
      "optimal x: [1. 1. 0.]\n"
     ]
    }
   ],
   "source": [
    "import cvxpy as cp\n",
    "\n",
    "# Define problem data\n",
    "A = [[1, 1, 0], [0, 1, 1]]\n",
    "b = [2, 1]\n",
    "\n",
    "# Define binary decision variables\n",
    "x = cp.Variable(3, boolean=True)\n",
    "\n",
    "# Define objective function\n",
    "obj = cp.sum(x)\n",
    "\n",
    "# Define constraints\n",
    "constraints = [\n",
    "    A[0] @ x >= b[0],\n",
    "    A[1] @ x <= b[1]\n",
    "]\n",
    "\n",
    "# Define the problem\n",
    "problem = cp.Problem(cp.Minimize(obj), constraints)\n",
    "\n",
    "# Solve the problem\n",
    "problem.solve(solver=cp.GUROBI)\n",
    "\n",
    "# Print results\n",
    "print(\"CVXPY + GUROBI Solution:\")\n",
    "print(\"status:\", problem.status)\n",
    "print(\"optimal value:\", obj.value)\n",
    "print(\"optimal x:\", x.value)"
   ]
  },
  {
   "cell_type": "markdown",
   "id": "13dcc8f8",
   "metadata": {},
   "source": [
    "# Mixed-integer programming problem\n",
    "In many real-world problems, we encounter situations where decision variables must take on integer values. For example, in production planning, the number of items produced must be an integer value. MIP provides a way to find optimal solutions to these types of problems.\n",
    "\n",
    "In this example, we will solve a very simple MIP problem using CVXPY and GUROBI solver. Suppose we want to maximize the following objective function:\n",
    "\n",
    "$$\n",
    "\\begin{aligned}\n",
    "&\\text{maximize } &&3x_1 + 2x_2 \\\\\n",
    "&\\text{subject to } &&x_1 + x_2 \\leq 4 \\\\\n",
    "&&&x_1 \\ge 0 \\\\\n",
    "&&&x_2 \\ge 0 \\\\\n",
    "&&&x_1, x_2 \\in \\mathbb{Z}, \\text{ where $\\mathbb{Z}$ denotes the set of integers}\n",
    "\\end{aligned}\n",
    "$$ \n",
    "\n",
    "Here, we want to find integer values for $x_1$ and $x_2$ that satisfy the constraints and maximize the objective function. This is a very simple example, but it can help us understand the basic syntax and structure of solving MIP problems using CVXPY.\n",
    "\n",
    "## Using CVXPY + GUROBI"
   ]
  },
  {
   "cell_type": "code",
   "execution_count": 5,
   "id": "13dd1a83",
   "metadata": {},
   "outputs": [
    {
     "name": "stdout",
     "output_type": "stream",
     "text": [
      "Optimal solution: x1 = 4.0, x2 = -0.0\n",
      "Optimal value: 12.0\n"
     ]
    }
   ],
   "source": [
    "import cvxpy as cp\n",
    "import mosek\n",
    "\n",
    "# Define the variables\n",
    "x1 = cp.Variable(integer=True)\n",
    "x2 = cp.Variable(integer=True)\n",
    "\n",
    "# Define the objective function\n",
    "obj = cp.Maximize(3*x1 + 2*x2)\n",
    "\n",
    "# Define the constraints\n",
    "constr = [x1 + x2 <= 4, x1>=0, x2>=0]\n",
    "\n",
    "# Create the problem instance and solve it\n",
    "prob = cp.Problem(obj, constr)\n",
    "prob.solve(solver=cp.GUROBI)\n",
    "\n",
    "# Print the optimal solution and optimal value\n",
    "print(\"Optimal solution: x1 = {}, x2 = {}\".format(x1.value, x2.value))\n",
    "print(\"Optimal value: {}\".format(prob.value))"
   ]
  },
  {
   "cell_type": "markdown",
   "id": "74a713f0",
   "metadata": {},
   "source": [
    "# Nonlinear programming problem\n",
    "Nonlinear optimization is a type of optimization problem where the objective function or the constraints are nonlinear. Unlike linear optimization, nonlinear optimization problems can be more complex to solve due to the non-convexity of the objective function and/or constraints. \n",
    "\n",
    "In this example, we will consider a simple nonlinear optimization problem of minimizing a quadratic function subject to a linear constraint. We want to minimize the function $f(x) = x_1^2 + x_2^2$ subject to the constraint $x_1 + x_2 \\geq 1$. This problem can be solved using nonlinear optimization techniques such as gradient descent, Newton's method, or quasi-Newton methods. However, we will use cvxpy, a Python library for convex optimization, to solve this problem.\n",
    "\n",
    "We can express this as an optimization problem:\n",
    "\n",
    "$$\n",
    "\\begin{aligned}\n",
    "&\\text{minimize } &&x_1^2 + x_2^2 \\\\\n",
    "&\\text{subject to } &&x_1 + x_2 \\geq 1 \n",
    "\\end{aligned}\n",
    "$$\n",
    "\n",
    "To solve this problem using MOSEK, we first define the optimization variables and the objective function:\n",
    "\n",
    "## Using CVXPY + MOSEK"
   ]
  },
  {
   "cell_type": "code",
   "execution_count": 6,
   "id": "2e358227",
   "metadata": {},
   "outputs": [
    {
     "name": "stdout",
     "output_type": "stream",
     "text": [
      "Optimal solution: x1 = 0.5, x2 = 0.5\n",
      "Optimal value: 0.5\n"
     ]
    }
   ],
   "source": [
    "import cvxpy as cp\n",
    "\n",
    "# Define the optimization variables\n",
    "x = cp.Variable(2)\n",
    "\n",
    "# Define the objective function\n",
    "objective = cp.Minimize(cp.sum_squares(x))\n",
    "\n",
    "# Define the constraint\n",
    "constraint = [x[0] + x[1] >= 1]\n",
    "\n",
    "# Create the optimization problem\n",
    "problem = cp.Problem(objective, constraint)\n",
    "\n",
    "# Solve the problem using the Mosek solver\n",
    "problem.solve(solver=cp.MOSEK)\n",
    "\n",
    "# Print the optimal solution and optimal value\n",
    "print(\"Optimal solution: x1 = {}, x2 = {}\".format(np.round(x[0].value,3), np.round(x[1].value,3)))\n",
    "print(\"Optimal value: {}\".format(np.round(problem.value,3)))"
   ]
  },
  {
   "cell_type": "markdown",
   "id": "5da4b645",
   "metadata": {},
   "source": [
    "# Multiobjective optimization\n",
    "Goal programming, also known as multi-objective optimization, is a technique used to solve decision-making problems that involve multiple, often conflicting objectives. It is particularly useful in situations where there is no clear trade-off between objectives and all objectives are important.\n",
    "\n",
    "In goal programming, the decision maker identifies a set of goals or objectives to be achieved and then formulates a mathematical model that minimizes the deviations from those goals. The model typically includes decision variables, constraints, and a set of goals or objectives to be achieved. These goals or objectives can be of different types, such as maximizing or minimizing a certain quantity, achieving a certain level of performance, or meeting specific requirements. The model seeks to minimize these deviations subject to the constraints.\n",
    "\n",
    "The goals or objectives can be conflicting, meaning that achieving one may come at the expense of the other. In such cases, the decision maker must balance these conflicting objectives and find a solution that achieves a satisfactory compromise. This can be done by assigning weights to each objective, where higher weights indicate higher priority. Alternatively, penalty functions can be used to penalize deviations from certain objectives more heavily than others.\n",
    "\n",
    "For example, a company wants to maximize their profits, but also wants to ensure that they don't produce more than a certain amount of waste. They have three goals:\n",
    "\n",
    "* Maximize profits\n",
    "* Minimize waste produced\n",
    "* Achieve a certain level of production\n",
    " \n",
    "Let $x$ be the amount of product produced, $p$ be the profit per unit sold, and $w$ be the amount of waste produced per unit produced. Then we can formulate the following goal programming model:\n",
    "\n",
    "$$\n",
    "\\begin{aligned}\n",
    "&\\text{minimize } &&z_1 + z_2 + z_3\\\\\n",
    "&\\text{where}\n",
    "&&z_1 = | \\text{profit} - \\text{target profit}|\\\\\n",
    "&&&z_2 = | \\text{waste} - \\text{target waste}|\\\\\n",
    "&&&z_3 = |x - \\text{target production}|\\\\\n",
    "&\\text{subject to}\n",
    "&&\\text{profit} = p \\cdot x\\\\\n",
    "&&&\\text{waste} = w \\cdot x\\\\\n",
    "&&&x \\geq 0\\\\\n",
    "&&&\\text{profit} \\geq \\text{target profit}\\\\\n",
    "&&&\\text{waste} \\leq \\text{target waste}\\\\\n",
    "&&&x = \\text{target production}\n",
    "\\end{aligned}\n",
    "$$\n",
    "\n",
    "where target profit, target waste, and target production are the company's goals for each respective metric.\n",
    "\n",
    "We can solve this model using the CVXPY package with the GUROBI solver. Here's the code:"
   ]
  },
  {
   "cell_type": "code",
   "execution_count": 7,
   "id": "5ae44267",
   "metadata": {},
   "outputs": [
    {
     "name": "stdout",
     "output_type": "stream",
     "text": [
      "Status:  optimal\n",
      "Optimal value:  1400.0\n",
      "Optimal x:  200.0\n",
      "Profit:  2000.0\n",
      "Waste:  100.0\n"
     ]
    }
   ],
   "source": [
    "import cvxpy as cp\n",
    "import numpy as np\n",
    "\n",
    "# Define the problem data\n",
    "p = 10  # profit per unit sold\n",
    "w = 0.5  # waste per unit produced\n",
    "target_profit = 1000\n",
    "target_waste = 500\n",
    "target_production = 200\n",
    "\n",
    "# Define the decision variables\n",
    "x = cp.Variable()\n",
    "\n",
    "# Define the constraints\n",
    "constraints = [x >= 0,\n",
    "               p * x >= target_profit,\n",
    "               w * x <= target_waste,\n",
    "               x == target_production]\n",
    "\n",
    "# Define the objective function\n",
    "objective = cp.Minimize(cp.abs(p * x - target_profit) +\n",
    "                        cp.abs(w * x - target_waste) +\n",
    "                        cp.abs(x - target_production))\n",
    "\n",
    "# Solve the problem\n",
    "prob = cp.Problem(objective, constraints)\n",
    "prob.solve(solver=cp.GUROBI)\n",
    "\n",
    "# Print the results\n",
    "print(\"Status: \", prob.status)\n",
    "print(\"Optimal value: \", np.round(prob.value,3))\n",
    "print(\"Optimal x: \", np.round(x.value,3))\n",
    "print(\"Profit: \", p * np.round(x.value,3))\n",
    "print(\"Waste: \", np.round(w * x.value,3))"
   ]
  },
  {
   "cell_type": "markdown",
   "id": "27eb787f",
   "metadata": {},
   "source": [
    "## Blended Multiobjective Optimization\n",
    "The above problem is actually a blended multiobjective optimization problem, where we aim to minimize a linear combination of multiple objectives. Blended multiobjective optimization involves finding a solution that optimizes multiple objectives by combining them into a single objective using weighted coefficients.\n",
    "\n",
    "In the following example, we aim to minimize a linear combination of two decision variables, $x_1$ and $x_2$, subject to two linear constraints. The objective function is defined as $0.4x_1 + 0.6x_2$, which is a weighted sum of the two decision variables. The weights of the decision variables determine their relative importance in the optimization process.\n",
    "\n",
    "$$\n",
    "\\begin{aligned}\n",
    "&\\text{minimize} && 0.4x_1 + 0.6x_2 \\\\\n",
    "&\\text{subject to} \n",
    "&&-2x_1 + 3x_2 \\geq 6 \\\\\n",
    "& &&3x_1 + 2x_2 \\geq 12 \\\\\n",
    "& &&x_1, x_2 \\geq 0 \\\\\n",
    "\\end{aligned}\n",
    "$$\n",
    "\n",
    "Here, the problem is subject to two linear constraints, which are defined as $-2x_1 + 3x_2 \\geq 6$ and $3x_1 + 2x_2 \\geq 12$. These constraints represent the feasible region of the problem, where the solution must lie. Additionally, we have the non-negative constraint $x_1, x_2 \\geq 0$, which means that the decision variables cannot be negative.\n",
    "\n",
    "Here is the Python code to solve a the blended multiobjective optimization problem using CVXPY and GUROBI:"
   ]
  },
  {
   "cell_type": "code",
   "execution_count": 8,
   "id": "c8c2d809",
   "metadata": {},
   "outputs": [
    {
     "name": "stdout",
     "output_type": "stream",
     "text": [
      "Optimal value = 2.677\n",
      "Optimal solution = [1.846 3.231]\n"
     ]
    }
   ],
   "source": [
    "import cvxpy as cp\n",
    "from gurobipy import *\n",
    "\n",
    "# Define the problem data\n",
    "n = 2\n",
    "m = 2\n",
    "A = np.array([[-2, 3], [3, 2]])\n",
    "b = np.array([6, 12])\n",
    "c = np.array([0.4, 0.6])\n",
    "\n",
    "# Define the decision variables\n",
    "x = cp.Variable(n)\n",
    "\n",
    "# Define the objective function\n",
    "obj = cp.Minimize(c @ x)\n",
    "\n",
    "# Define the constraints\n",
    "constraints = [A @ x >= b, x >= 0]\n",
    "\n",
    "# Solve the problem using CVXPY and Gurobi\n",
    "prob = cp.Problem(obj, constraints)\n",
    "prob.solve(solver=cp.GUROBI)\n",
    "\n",
    "# Print the optimal value and the optimal solution\n",
    "print(\"Optimal value =\", np.round(prob.value,3))\n",
    "print(\"Optimal solution =\", np.round(x.value,3))"
   ]
  },
  {
   "cell_type": "markdown",
   "id": "090d4d01",
   "metadata": {},
   "source": [
    "## Hierarchical Multiobjective Optimization\n",
    "Hierarchical Multiobjective Optimization (HMO) is an approach to solving complex optimization problems with multiple objectives that are often conflicting and cannot be optimized simultaneously. In HMO, the objective functions are organized in a hierarchy, where the higher-level objectives are more important than the lower-level objectives. The optimization problem is solved in a hierarchical manner, where the lower-level objectives are optimized subject to the constraints and objectives of the higher-level problems.\n",
    "\n",
    "As an example, let's consider the following example:\n",
    "\n",
    "$$\n",
    "\\begin{aligned}\n",
    "& \\text{minimize} && f_1(x) = x_1^2 + x_2^2 \\\\\n",
    "& \\text{subject to} && g(x) = x_1 + x_2 - 1 \\leq 2 \\\\\n",
    "&&&\\\\\n",
    "& \\text{minimize} && f_2(x) = \\left\\lVert x - \\begin{bmatrix}1 \\ 1\\end{bmatrix} \\right\\rVert_2 \\\\\n",
    "& \\text{subject to} && h(x) = x_1 - x_2 - 1 \\leq 0 \\\\\n",
    "&&& f_1(x) \\leq f_1^*\n",
    "\\end{aligned}\n",
    "$$\n",
    "\n",
    "In this example, we have two optimization problems that we want to solve using Python, CVXPY, and GUROBI. In the first problem, we aim to minimize the sum of squares of two real-valued variables, subject to the constraint that the sum of the variables is less than or equal to 1. In the second problem, we want to minimize the Euclidean distance between a two-dimensional real-valued variable and the point [1,1], subject to the constraint that the difference between the variables is less than or equal to 1 and subject to the additional constraint that the value of the objective function from the first problem is less than or equal to a previously calculated value.\n",
    "\n",
    "Here is the code to solve the hierarchical multiobjective optimization problem using CVXPY and GUROBI:"
   ]
  },
  {
   "cell_type": "code",
   "execution_count": 9,
   "id": "985d8090",
   "metadata": {},
   "outputs": [
    {
     "name": "stdout",
     "output_type": "stream",
     "text": [
      "Optimal value of f1:  0.0\n",
      "Optimal decision variables:  [-0. -0.]\n",
      "Optimal value of f2:  1.414\n",
      "Optimal decision variables:  [0. 0.]\n"
     ]
    }
   ],
   "source": [
    "import cvxpy as cp\n",
    "\n",
    "# Define the variables\n",
    "x = cp.Variable(2)\n",
    "\n",
    "# Define the constraints\n",
    "g = x[0] + x[1] - 1\n",
    "h = x[0] - x[1] - 1\n",
    "\n",
    "# Define the objective functions\n",
    "f1 = cp.sum_squares(x)\n",
    "f2 = cp.norm(x - np.array([1, 1]), 2)\n",
    "\n",
    "# Define problem 1\n",
    "problem1 = cp.Problem(cp.Minimize(f1), [g <= 2])\n",
    "problem1.solve(solver=cp.GUROBI)\n",
    "f1_star = problem1.value\n",
    "x1_star = x.value\n",
    "\n",
    "print(\"Optimal value of f1: \", np.round(problem1.value,3))\n",
    "print(\"Optimal decision variables: \", np.round(x1_star,3))\n",
    "    \n",
    "# Define problem 2 with f1_star constraint\n",
    "problem2 = cp.Problem(cp.Minimize(f2), [h <= 0, f1 <= f1_star])\n",
    "\n",
    "# Solve problem 2\n",
    "try:\n",
    "    problem2.solve(solver=cp.GUROBI)\n",
    "    print(\"Optimal value of f2: \", np.round(problem2.value,3))\n",
    "    x2_star = x.value\n",
    "    print(\"Optimal decision variables: \", np.round(x2_star,3))\n",
    "except cp.error.SolverError:\n",
    "    print(\"Solver failed to find optimal value for problem2\")"
   ]
  },
  {
   "cell_type": "markdown",
   "id": "caf8b3db",
   "metadata": {},
   "source": [
    "# Risk-adjusted portfolio optimization\n",
    "Risk-adjusted portfolio optimization is a common problem in finance, where the goal is to find the optimal allocation of assets that maximizes expected returns while minimizing risks. One common approach to risk-adjusted portfolio optimization is the mean-variance optimization model developed by Harry Markowitz. The model assumes that investors are risk-averse and seek to maximize the expected return while minimizing the variance of their portfolio.\n",
    "\n",
    "The mean-variance optimization model can be expressed mathematically as follows:\n",
    "\n",
    "$$\n",
    "\\begin{aligned}\n",
    "& \\text{maximize} && \\mu^T x - \\gamma x^T \\Sigma x \\\\\n",
    "& \\text{subject to} && \\sum_{i=1}^n x_i = 1 \\\\\n",
    "& && x \\geq 0\n",
    "\\end{aligned}\n",
    "$$\n",
    "\n",
    "where $\\mu$ is a vector of expected returns for each asset, $\\Sigma$ is the covariance matrix of asset returns, $x$ is a vector of weights for each asset, and $\\gamma$ is a scalar that represents the risk aversion of the investor.\n",
    "\n",
    "The parameter $\\gamma$ can be adjusted to reflect the risk aversion of the investor. A higher value of $\\gamma$ indicates a higher level of risk aversion, leading to a portfolio with lower expected returns but also lower risk. On the other hand, a lower value of $\\gamma$ indicates a lower level of risk aversion, leading to a portfolio with higher expected returns but also higher risk.\n",
    "\n",
    "In the following example, we randomly generated expected returns and covariance matrix for a portfolio of three assets. We set the risk aversion parameter $\\gamma$ to 0.5. We defined the decision variables, objective function, and constraints using CVXPY. We then solved the problem using the Gurobi solver through the CVXPY interface. Finally, we printed out the optimal value and optimal solution of the problem."
   ]
  },
  {
   "cell_type": "code",
   "execution_count": 10,
   "id": "57ffd51c",
   "metadata": {},
   "outputs": [
    {
     "name": "stdout",
     "output_type": "stream",
     "text": [
      "Optimal value = -0.42612462629217096\n",
      "Optimal solution = [7.48557659e-01 2.51442333e-01 8.11454331e-09]\n"
     ]
    }
   ],
   "source": [
    "import cvxpy as cp\n",
    "import numpy as np\n",
    "import gurobipy as gp\n",
    "\n",
    "# Define the problem data\n",
    "n = 3\n",
    "np.random.seed(1)\n",
    "mu = np.abs(np.random.randn(n))\n",
    "Sigma = np.abs(np.random.randn(n, n))\n",
    "Sigma = Sigma.T @ Sigma\n",
    "gamma = 0.5\n",
    "\n",
    "# Define the decision variables\n",
    "x = cp.Variable(n)\n",
    "\n",
    "# Define the objective function\n",
    "objective = cp.Maximize(mu.T @ x - gamma * cp.quad_form(x, Sigma))\n",
    "\n",
    "# Define the constraints\n",
    "constraints = [cp.sum(x) == 1, x >= 0]\n",
    "\n",
    "# Solve the problem using CVXPY and Gurobi solver\n",
    "prob = cp.Problem(objective, constraints)\n",
    "prob.solve(solver=cp.GUROBI)\n",
    "\n",
    "# Print the optimal value and the optimal solution\n",
    "print(\"Optimal value =\", prob.value)\n",
    "print(\"Optimal solution =\", x.value)"
   ]
  },
  {
   "cell_type": "markdown",
   "id": "ff5b5211",
   "metadata": {},
   "source": [
    "# Sharpe Ratio maximization\n",
    "To maximize the Sharpe ratio, we need to use the formula:\n",
    "\n",
    "$$\n",
    "\\text{Sharpe Ratio} = (r_p - r_f) / σ_p\n",
    "$$\n",
    "\n",
    "where $r_p$ is the expected return of the portfolio, $r_f$ is the risk-free rate, and $σ_p$ is the standard deviation of the portfolio returns. The goal is to find the portfolio weights that maximize the Sharpe ratio.\n",
    "\n",
    "We can solve this optimization problem using a similar code structure as before. First, we generate a set of random portfolio weights, calculate the expected returns and standard deviation of the portfolio, and then calculate the Sharpe ratio for each portfolio. Finally, we find the portfolio with the highest Sharpe ratio.\n",
    "\n",
    "In the following example, we generate some random data for 5 assets over 100 observations. We define the objective function as the negative Sharpe ratio of the portfolio, and use the constraints that the weights must sum to 1. We also define the bounds as 0 to 1 for each asset, and use a random initial guess. Then, we solve the optimization problem using the SLSQP solver, and print out the optimal portfolio weights and Sharpe ratio."
   ]
  },
  {
   "cell_type": "code",
   "execution_count": 11,
   "id": "7e53e143",
   "metadata": {},
   "outputs": [
    {
     "name": "stdout",
     "output_type": "stream",
     "text": [
      "Optimal weights: [0.00000000e+00 9.31419286e-01 6.85807141e-02 0.00000000e+00\n",
      " 2.57414458e-16]\n",
      "Sharpe ratio: 0.2635\n"
     ]
    }
   ],
   "source": [
    "import numpy as np\n",
    "from scipy.optimize import minimize\n",
    "\n",
    "# Example data\n",
    "np.random.seed(123)\n",
    "n_assets = 5\n",
    "n_obs = 100\n",
    "mu = np.random.randn(n_assets)\n",
    "cov = np.random.randn(n_assets, n_assets)\n",
    "cov = cov.T.dot(cov)\n",
    "rf = 0.02\n",
    "\n",
    "# Define the objective function\n",
    "def objective(x):\n",
    "    ret = np.dot(mu, x)\n",
    "    risk = np.sqrt(np.dot(x.T, np.dot(cov, x)))\n",
    "    return -(ret - rf) / risk\n",
    "\n",
    "# Define the constraints\n",
    "constraints = ({'type': 'eq', 'fun': lambda x: np.sum(x) - 1})\n",
    "\n",
    "# Define the bounds\n",
    "bounds = tuple((0, 1) for i in range(n_assets))\n",
    "\n",
    "# Define the initial guess\n",
    "x0 = np.random.randn(n_assets)\n",
    "\n",
    "# Solve the optimization problem\n",
    "result = minimize(objective, x0, method='SLSQP', bounds=bounds, constraints=constraints)\n",
    "\n",
    "# Print the optimal portfolio weights and Sharpe ratio\n",
    "print(f\"Optimal weights: {result.x}\")\n",
    "print(f\"Sharpe ratio: {-result.fun:.4f}\")"
   ]
  }
 ],
 "metadata": {
  "jupytext": {
   "cell_metadata_filter": "-all",
   "formats": "md:myst",
   "text_representation": {
    "extension": ".md",
    "format_name": "myst",
    "format_version": 0.13,
    "jupytext_version": "1.11.5"
   }
  },
  "kernelspec": {
   "display_name": "Python 3",
   "language": "python",
   "name": "python3"
  },
  "language_info": {
   "codemirror_mode": {
    "name": "ipython",
    "version": 3
   },
   "file_extension": ".py",
   "mimetype": "text/x-python",
   "name": "python",
   "nbconvert_exporter": "python",
   "pygments_lexer": "ipython3",
   "version": "3.10.9"
  },
  "source_map": [
   14,
   55,
   69,
   73,
   89,
   92,
   117,
   134,
   164,
   184,
   205,
   225,
   246,
   284,
   319,
   340,
   367,
   389,
   423,
   444,
   473,
   488
  ]
 },
 "nbformat": 4,
 "nbformat_minor": 5
}