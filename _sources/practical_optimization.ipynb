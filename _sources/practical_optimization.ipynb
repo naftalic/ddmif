{
 "cells": [
  {
   "cell_type": "markdown",
   "id": "1e6e82fb",
   "metadata": {},
   "source": [
    "# Practical Optimization\n",
    "\n",
    "# Simple Linear Programing (LP) model\n",
    "Let us consider the following simple Linear Programing (LP) model for a company that produces two products, Product A and Product B:\n",
    "\n",
    "Product A requires 2 hours of labor and 3 pounds of material to produce one unit. The company has 80 hours of labor available and 120 pounds of material available.\n",
    "Product B requires 3 hours of labor and 2 pounds of material to produce one unit. The company has 60 hours of labor available and 100 pounds of material available.\n",
    "The profit for each unit of Product A is \\$5, and the profit for each unit of Product B is \\$4.\n",
    "The objective is to maximize the company's profit subject to the available resources. Let's call the number of units of Product A produced $x_1$ and the number of units of Product B produced $x_2$. Then, the LP model is:\n",
    "\n",
    "$$\n",
    "\\begin{align*}\n",
    "&\\text{Maximize} &5x1 + 4x2 & \\\\\n",
    "&\\text{Subject to} &2x1 + 3x2 <= 80   \\quad &\\text{(labor constraint for Product A)} \\\\\n",
    "& &3x1 + 2x2 <= 60  \\quad &\\text{(labor constraint for Product B)} \\\\\n",
    "& &3x1 + 2x2 <= 100 \\quad &\\text{(material constraint for both products)} \\\\\n",
    "& &x1, x2 >= 0      \\quad &\\text{(non-negativity constraint)}\n",
    "\\end{align*}\n",
    "$$\n",
    "\n",
    "Now, let's solve this LP model using cvxpy, gurobipy, and mosek in Python\n",
    "\n",
    "## Using cvxpy"
   ]
  },
  {
   "cell_type": "code",
   "execution_count": 1,
   "id": "624c0d24",
   "metadata": {},
   "outputs": [
    {
     "name": "stdout",
     "output_type": "stream",
     "text": [
      "Optimal value: 115.99999999625518\n",
      "Optimal solution: [ 4. 24.]\n"
     ]
    }
   ],
   "source": [
    "import cvxpy as cp\n",
    "\n",
    "x = cp.Variable(2, nonneg=True)\n",
    "objective = cp.Maximize(5*x[0] + 4*x[1])\n",
    "constraints = [2*x[0] + 3*x[1] <= 80,\n",
    "               3*x[0] + 2*x[1] <= 60,\n",
    "               3*x[0] + 2*x[1] <= 100]\n",
    "prob = cp.Problem(objective, constraints)\n",
    "prob.solve()\n",
    "\n",
    "print(\"Optimal value:\", prob.value)\n",
    "print(\"Optimal solution:\", x.value)"
   ]
  },
  {
   "cell_type": "markdown",
   "id": "10cb8977",
   "metadata": {},
   "source": [
    "## Using gurobipy"
   ]
  },
  {
   "cell_type": "code",
   "execution_count": 2,
   "id": "a3ac1a94",
   "metadata": {},
   "outputs": [
    {
     "name": "stdout",
     "output_type": "stream",
     "text": [
      "Restricted license - for non-production use only - expires 2024-10-28\n"
     ]
    },
    {
     "name": "stdout",
     "output_type": "stream",
     "text": [
      "Optimal value: 116.00000000000001\n",
      "Optimal solution: [4.000000000000003, 24.0]\n"
     ]
    }
   ],
   "source": [
    "import gurobipy as gp\n",
    "\n",
    "model = gp.Model()\n",
    "model.setParam('OutputFlag', 0)\n",
    "\n",
    "x = model.addVars(2, lb=0, vtype=gp.GRB.CONTINUOUS)\n",
    "objective = 5*x[0] + 4*x[1]\n",
    "model.setObjective(objective, sense=gp.GRB.MAXIMIZE)\n",
    "model.addConstr(2*x[0] + 3*x[1] <= 80)\n",
    "model.addConstr(3*x[0] + 2*x[1] <= 60)\n",
    "model.addConstr(3*x[0] + 2*x[1] <= 100)\n",
    "model.optimize()\n",
    "\n",
    "print(\"Optimal value:\", model.objVal)\n",
    "print(\"Optimal solution:\", [x[i].x for i in range(2)])"
   ]
  },
  {
   "cell_type": "markdown",
   "id": "56222c26",
   "metadata": {},
   "source": [
    "## Using mosek"
   ]
  },
  {
   "cell_type": "code",
   "execution_count": 3,
   "id": "17a2fd65",
   "metadata": {},
   "outputs": [
    {
     "name": "stdout",
     "output_type": "stream",
     "text": [
      "Optimal value: 116.0\n",
      "Optimal solution: [ 4. 24.]\n"
     ]
    }
   ],
   "source": [
    "import mosek.fusion as mf\n",
    "\n",
    "# Create a Mosek Fusion environment\n",
    "M = mf.Model('LP example')\n",
    "\n",
    "# Define variables\n",
    "x = M.variable('x', 2, mf.Domain.greaterThan(0.0))\n",
    "\n",
    "# Define objective\n",
    "c = [5.0, 4.0]\n",
    "M.objective('obj', mf.ObjectiveSense.Maximize, mf.Expr.dot(c, x))\n",
    "\n",
    "# Define constraints\n",
    "A = [[2.0, 3.0], [3.0, 2.0], [3.0, 2.0]]\n",
    "b = [80.0, 60.0, 100.0]\n",
    "for i in range(len(A)):\n",
    "    M.constraint('c{}'.format(i), mf.Expr.dot(A[i], x), mf.Domain.lessThan(b[i]))\n",
    "\n",
    "# Solve the problem\n",
    "M.solve()\n",
    "\n",
    "# Print the results\n",
    "\n",
    "print(\"Optimal value:\", M.primalObjValue()) \n",
    "print(\"Optimal solution:\", x.level())"
   ]
  },
  {
   "cell_type": "markdown",
   "id": "7e855192",
   "metadata": {},
   "source": [
    " \n",
    "$$\n",
    "\\begin{align*}\n",
    "&\\text{minimize} &x1 + x2 + x3 & \\\\\n",
    "&\\text{subject to} &x1 + x2 le 1 \\\\\n",
    "& &x2 + x3 \\le 1 \\\\\n",
    "& &x1, x2, x3 \\quad\\text{are binary variables}\n",
    "\\end{align*}\n",
    "$$"
   ]
  },
  {
   "cell_type": "code",
   "execution_count": 4,
   "id": "c7850f39",
   "metadata": {},
   "outputs": [
    {
     "ename": "SyntaxError",
     "evalue": "invalid syntax (965974895.py, line 38)",
     "output_type": "error",
     "traceback": [
      "\u001b[0;36m  Cell \u001b[0;32mIn[4], line 38\u001b[0;36m\u001b[0m\n\u001b[0;31m    ```{code-cell}\u001b[0m\n\u001b[0m    ^\u001b[0m\n\u001b[0;31mSyntaxError\u001b[0m\u001b[0;31m:\u001b[0m invalid syntax\n"
     ]
    }
   ],
   "source": [
    "import cvxpy as cp\n",
    "import gurobipy as gp\n",
    "from gurobipy import GRB\n",
    "import mosek\n",
    "\n",
    "# Define binary optimization problem\n",
    "x = cp.Variable(3, boolean=True)\n",
    "objective = cp.Minimize(x[0] + x[1] + x[2])\n",
    "constraints = [x[0] + x[1] <= 1, x[1] + x[2] <= 1]\n",
    "problem = cp.Problem(objective, constraints)\n",
    "\n",
    "# Solve using CVXPY\n",
    "solver = cp.MOSEK\n",
    "problem.solve(solver=solver)\n",
    "\n",
    "# Print results\n",
    "print(\"CVXPY Solution:\")\n",
    "print(\"status:\", problem.status)\n",
    "print(\"optimal value:\", problem.value)\n",
    "print(\"optimal x:\", x.value)\n",
    "\n",
    "# Solve using Gurobi\n",
    "model = gp.Model()\n",
    "model.setParam('OutputFlag', 0)\n",
    "x = model.addMVar(3, vtype=GRB.BINARY)\n",
    "obj = x[0] + x[1] + x[2]\n",
    "model.setObjective(obj)\n",
    "model.addConstr(x[0] + x[1] <= 1)\n",
    "model.addConstr(x[1] + x[2] <= 1)\n",
    "model.setParam('OutputFlag', 0)\n",
    "model.optimize()\n",
    "\n",
    "# Print results\n",
    "print(\"Gurobi Solution:\")\n",
    "print(\"status:\", model.status)\n",
    "print(\"optimal value:\", model.objVal)\n",
    "print(\"optimal x:\", x.X)\n",
    "```{code-cell}\n"
   ]
  }
 ],
 "metadata": {
  "jupytext": {
   "cell_metadata_filter": "-all",
   "formats": "md:myst",
   "text_representation": {
    "extension": ".md",
    "format_name": "myst",
    "format_version": 0.13,
    "jupytext_version": "1.11.5"
   }
  },
  "kernelspec": {
   "display_name": "Python 3",
   "language": "python",
   "name": "python3"
  },
  "language_info": {
   "codemirror_mode": {
    "name": "ipython",
    "version": 3
   },
   "file_extension": ".py",
   "mimetype": "text/x-python",
   "name": "python",
   "nbconvert_exporter": "python",
   "pygments_lexer": "ipython3",
   "version": "3.10.9"
  },
  "source_map": [
   14,
   40,
   53,
   57,
   73,
   76,
   102,
   114
  ]
 },
 "nbformat": 4,
 "nbformat_minor": 5
}