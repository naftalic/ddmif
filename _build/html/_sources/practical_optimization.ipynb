{
 "cells": [
  {
   "cell_type": "markdown",
   "id": "992d0e54",
   "metadata": {},
   "source": [
    "# Practical Optimization\n",
    "\n",
    "# Simple Linear Programing (LP) model\n",
    "Let us consider the following simple Linear Programing (LP) model for a company that produces two products, Product A and Product B:\n",
    "\n",
    "Product A requires 2 hours of labor and 3 pounds of material to produce one unit. The company has 80 hours of labor available and 120 pounds of material available.\n",
    "Product B requires 3 hours of labor and 2 pounds of material to produce one unit. The company has 60 hours of labor available and 100 pounds of material available.\n",
    "The profit for each unit of Product A is \\$5, and the profit for each unit of Product B is \\$4.\n",
    "The objective is to maximize the company's profit subject to the available resources. Let's call the number of units of Product A produced $x_1$ and the number of units of Product B produced $x_2$. Then, the LP model is:\n",
    "\n",
    "$$\n",
    "\\begin{aligned}\n",
    "&\\text{Maximize } &&5x_1 + 4x_2 \\\n",
    "&\\text{Subject to } &&2x_1 + 3x_2 \\le 80 &&\\text{(labor constraint for Product A)} \\\n",
    "&&&3x_1 + 2x_2 \\le 60 &&\\text{(labor constraint for Product B)} \\\n",
    "&&&3x_1 + 2x_2 \\le 100 &&\\text{(material constraint for both products)} \\\n",
    "&&&x_1, x_2 \\ge 0 &&\\text{(non-negativity constraint)}\n",
    "\\end{aligned}\n",
    "$$\n",
    "\n",
    "Now, let's solve this LP model using cvxpy, gurobipy, and mosek in Python\n",
    "\n",
    "## Using cvxpy"
   ]
  },
  {
   "cell_type": "code",
   "execution_count": 1,
   "id": "eb541b30",
   "metadata": {},
   "outputs": [
    {
     "name": "stdout",
     "output_type": "stream",
     "text": [
      "Optimal value: 115.99999999625518\n",
      "Optimal solution: [ 4. 24.]\n"
     ]
    }
   ],
   "source": [
    "import cvxpy as cp\n",
    "\n",
    "x = cp.Variable(2, nonneg=True)\n",
    "objective = cp.Maximize(5*x[0] + 4*x[1])\n",
    "constraints = [2*x[0] + 3*x[1] <= 80,\n",
    "               3*x[0] + 2*x[1] <= 60,\n",
    "               3*x[0] + 2*x[1] <= 100]\n",
    "prob = cp.Problem(objective, constraints)\n",
    "prob.solve()\n",
    "\n",
    "print(\"Optimal value:\", prob.value)\n",
    "print(\"Optimal solution:\", x.value)"
   ]
  },
  {
   "cell_type": "markdown",
   "id": "a3112d5c",
   "metadata": {},
   "source": [
    "## Using gurobipy"
   ]
  },
  {
   "cell_type": "code",
   "execution_count": 2,
   "id": "0f1399b5",
   "metadata": {},
   "outputs": [
    {
     "name": "stdout",
     "output_type": "stream",
     "text": [
      "Restricted license - for non-production use only - expires 2024-10-28\n"
     ]
    },
    {
     "name": "stdout",
     "output_type": "stream",
     "text": [
      "Optimal value: 116.00000000000001\n",
      "Optimal solution: [4.000000000000003, 24.0]\n"
     ]
    }
   ],
   "source": [
    "import gurobipy as gp\n",
    "\n",
    "model = gp.Model()\n",
    "model.setParam('OutputFlag', 0)\n",
    "\n",
    "x = model.addVars(2, lb=0, vtype=gp.GRB.CONTINUOUS)\n",
    "objective = 5*x[0] + 4*x[1]\n",
    "model.setObjective(objective, sense=gp.GRB.MAXIMIZE)\n",
    "model.addConstr(2*x[0] + 3*x[1] <= 80)\n",
    "model.addConstr(3*x[0] + 2*x[1] <= 60)\n",
    "model.addConstr(3*x[0] + 2*x[1] <= 100)\n",
    "model.optimize()\n",
    "\n",
    "print(\"Optimal value:\", model.objVal)\n",
    "print(\"Optimal solution:\", [x[i].x for i in range(2)])"
   ]
  },
  {
   "cell_type": "markdown",
   "id": "f4a33fd6",
   "metadata": {},
   "source": [
    "## Using mosek"
   ]
  },
  {
   "cell_type": "code",
   "execution_count": 3,
   "id": "124359fe",
   "metadata": {},
   "outputs": [
    {
     "name": "stdout",
     "output_type": "stream",
     "text": [
      "Optimal value: 116.0\n",
      "Optimal solution: [ 4. 24.]\n"
     ]
    }
   ],
   "source": [
    "import mosek.fusion as mf\n",
    "\n",
    "M = mf.Model('LP example')\n",
    "\n",
    "# Define variables\n",
    "x = M.variable('x', 2, mf.Domain.greaterThan(0.0))\n",
    "\n",
    "# Define objective\n",
    "c = [5.0, 4.0]\n",
    "M.objective('obj', mf.ObjectiveSense.Maximize, mf.Expr.dot(c, x))\n",
    "\n",
    "# Define constraints\n",
    "A = [[2.0, 3.0], [3.0, 2.0], [3.0, 2.0]]\n",
    "b = [80.0, 60.0, 100.0]\n",
    "for i in range(len(A)):\n",
    "    M.constraint('c{}'.format(i), mf.Expr.dot(A[i], x), mf.Domain.lessThan(b[i]))\n",
    "\n",
    "# Solve the problem\n",
    "M.solve()\n",
    "\n",
    "# Print the results\n",
    "\n",
    "print(\"Optimal value:\", M.primalObjValue()) \n",
    "print(\"Optimal solution:\", x.level())"
   ]
  },
  {
   "cell_type": "markdown",
   "id": "edc69669",
   "metadata": {},
   "source": [
    "# Binary optimization problem \n",
    "## using CVXPY + GUROBI\n",
    "$$\n",
    "\\begin{aligned}\n",
    "&\\text{minimize } &&x_1 + x_2 + x_3 \\\\\n",
    "&\\text{subject to } &&x_1 + x_2 \\ge 2 \\\\\n",
    "&&&x_2 + x_3 \\le 1 \\\\\n",
    "&&&x_1, x_2, x_3 \\text{ are binary variables}\n",
    "\\end{aligned}\n",
    "$$"
   ]
  },
  {
   "cell_type": "code",
   "execution_count": 4,
   "id": "af2120e7",
   "metadata": {},
   "outputs": [
    {
     "name": "stdout",
     "output_type": "stream",
     "text": [
      "CVXPY + GUROBI Solution:\n",
      "status: optimal\n",
      "optimal value: 2.0\n",
      "optimal x: [1. 1. 0.]\n"
     ]
    }
   ],
   "source": [
    "import cvxpy as cp\n",
    "\n",
    "# Define problem data\n",
    "A = [[1, 1, 0], [0, 1, 1]]\n",
    "b = [2, 1]\n",
    "\n",
    "# Define binary decision variables\n",
    "x = cp.Variable(3, boolean=True)\n",
    "\n",
    "# Define objective function\n",
    "obj = cp.sum(x)\n",
    "\n",
    "# Define constraints\n",
    "constraints = [\n",
    "    A[0] @ x >= b[0],\n",
    "    A[1] @ x <= b[1]\n",
    "]\n",
    "\n",
    "# Define the problem\n",
    "problem = cp.Problem(cp.Minimize(obj), constraints)\n",
    "\n",
    "# Solve the problem\n",
    "problem.solve(solver=cp.GUROBI)\n",
    "\n",
    "# Print results\n",
    "print(\"CVXPY + GUROBI Solution:\")\n",
    "print(\"status:\", problem.status)\n",
    "print(\"optimal value:\", obj.value)\n",
    "print(\"optimal x:\", x.value)"
   ]
  },
  {
   "cell_type": "markdown",
   "id": "077bde3d",
   "metadata": {},
   "source": [
    "In this implementation, we first define the problem data, including the binary decision variables, the objective function, and the constraints. We then create a CVXPY problem instance using the cp.Problem constructor, with the objective function and constraints as arguments. We solve the problem using the GUROBI solver by passing solver=cp.GUROBI to the solve method of the problem instance. Finally, we print the results using the value attribute of the objective function and decision variables.\n",
    "\n",
    "# Mixed-integer programming problem\n",
    "## using CVXPY + MOSEK"
   ]
  },
  {
   "cell_type": "code",
   "execution_count": 5,
   "id": "c4c59f89",
   "metadata": {},
   "outputs": [
    {
     "name": "stdout",
     "output_type": "stream",
     "text": [
      "CVXPY + MOSEK Solution:\n",
      "status: optimal\n",
      "optimal value: 1.0000000075471824\n",
      "optimal x: [ 1. -1.]\n"
     ]
    }
   ],
   "source": [
    "import cvxpy as cp\n",
    "\n",
    "# Define problem data\n",
    "A = [[1, 2], [-1, 1]]\n",
    "b = [3, 1]\n",
    "\n",
    "# Define integer decision variables\n",
    "x = cp.Variable(2, integer=True)\n",
    "\n",
    "# Define objective function\n",
    "obj = cp.Minimize(cp.sum_squares(A @ x - b))\n",
    "\n",
    "# Define the problem\n",
    "problem = cp.Problem(obj)\n",
    "\n",
    "# Solve the problem\n",
    "problem.solve(solver=cp.MOSEK)\n",
    "\n",
    "# Print results\n",
    "print(\"CVXPY + MOSEK Solution:\")\n",
    "print(\"status:\", problem.status)\n",
    "print(\"optimal value:\", obj.value)\n",
    "print(\"optimal x:\", x.value)"
   ]
  },
  {
   "cell_type": "markdown",
   "id": "ffbff03f",
   "metadata": {},
   "source": [
    "In this implementation, we first define the problem data, including the integer decision variables, the objective function, and the constraints. We then create a CVXPY problem instance using the cp.Problem constructor, with the objective function and constraints as arguments. We solve the problem using the MOSEK solver by passing solver=cp.MOSEK to the solve method of the problem instance. Finally, we print the results using the value attribute of the objective function and decision variables."
   ]
  }
 ],
 "metadata": {
  "jupytext": {
   "cell_metadata_filter": "-all",
   "formats": "md:myst",
   "text_representation": {
    "extension": ".md",
    "format_name": "myst",
    "format_version": 0.13,
    "jupytext_version": "1.11.5"
   }
  },
  "kernelspec": {
   "display_name": "Python 3",
   "language": "python",
   "name": "python3"
  },
  "language_info": {
   "codemirror_mode": {
    "name": "ipython",
    "version": 3
   },
   "file_extension": ".py",
   "mimetype": "text/x-python",
   "name": "python",
   "nbconvert_exporter": "python",
   "pygments_lexer": "ipython3",
   "version": "3.10.9"
  },
  "source_map": [
   14,
   40,
   53,
   57,
   73,
   76,
   101,
   114,
   144,
   150,
   174
  ]
 },
 "nbformat": 4,
 "nbformat_minor": 5
}