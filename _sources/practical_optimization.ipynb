{
 "cells": [
  {
   "cell_type": "markdown",
   "id": "60f0a39e",
   "metadata": {},
   "source": [
    "# Appendix A) Hands-on Optimization\n",
    "Optimization is a powerful tool that is widely used in practice to solve real-world problems. Optimization problems arise in a variety of fields such as finance, engineering, operations research, and machine learning. These problems often involve decision-making under constraints, where one needs to find the best possible solution given the available resources.\n",
    "\n",
    "By using optimization techniques, we can identify the optimal solution that satisfies the given constraints and minimizes or maximizes the objective function. This allows us to make better decisions and achieve our desired outcomes more efficiently.\n",
    "\n",
    "In finance, optimization is used to solve problems such as portfolio optimization, asset allocation, and risk management. In engineering, optimization is used to design and optimize systems such as transportation networks, communication systems, and manufacturing processes. In operations research, optimization is used to solve problems such as production planning, inventory management, and supply chain optimization.\n",
    "\n",
    "Optimization is also widely used in machine learning to train models and make predictions. In machine learning, optimization techniques are used to find the optimal parameters of a model that best fits the data and minimizes the error.\n",
    "\n",
    "In this chapter, we will discuss examples of linear programming (LP), binary optimization, and mixed-integer programming (MIP).\n",
    "We will introduce the widely used optimization libraries such as CVXPY, GurobiPy, and Mosek Fusion that can be used to solve optimization problems effectively. These libraries provide user-friendly interfaces to model and solve optimization problems using a variety of algorithms and solvers.\n",
    "\n",
    "First, we will discuss LP, which is a technique to optimize a linear objective function subject to linear constraints. \n",
    "Next, we will cover binary optimization, which involves decision-making in scenarios where the variables can only take binary values of 0 or 1. \n",
    "Lastly, we will delve into mixed-integer programming, which involves optimization problems where some or all of the variables can take both continuous and discrete values.\n",
    "\n",
    "# Simple Linear Programing model\n",
    "Let's consider a simple example of a company that produces two products, Product A and Product B, to illustrate the usefulness of optimization in practice.\n",
    "\n",
    "To produce one unit of Product A, the company requires 2 hours of labor and 3 pounds of material. The company has 80 hours of labor available and 120 pounds of material available. To produce one unit of Product B, the company requires 3 hours of labor and 2 pounds of material. The company has 60 hours of labor available and 100 pounds of material available. The profit for each unit of Product A is \\$5, and the profit for each unit of Product B is \\$4. The objective is to maximize the company's profit subject to the available resources.\n",
    "\n",
    "Optimization is useful in practice because it helps us make better decisions by finding the best possible solution to a problem given certain constraints. In this case, the LP model helps us determine the optimal number of units of Product A and Product B that the company should produce to maximize its profit while staying within the available resources.\n",
    "\n",
    "Let's call the number of units of Product A produced $x_1$ and the number of units of Product B produced $x_2$. Then, the LP model is:\n",
    "\n",
    "$$\n",
    "\\begin{aligned}\n",
    "&\\text{Maximize } &&5x_1 + 4x_2 \\\\\n",
    "&\\text{Subject to } &&2x_1 + 3x_2 \\le 80 &&\\text{(labor constraint for Product A)} \\\\\n",
    "&&&3x_1 + 2x_2 \\le 60 &&\\text{(labor constraint for Product B)} \\\\\n",
    "&&&3x_1 + 2x_2 \\le 100 &&\\text{(material constraint for both products)} \\\\\n",
    "&&&x_1, x_2 \\ge 0 &&\\text{(non-negativity constraint)}\n",
    "\\end{aligned}\n",
    "$$\n",
    "\n",
    "We can use various optimization solvers such as CVXPY, GUROBIPY, and MOSEK in Python to solve this LP model and find the optimal solution.\n",
    "\n",
    "## Using CVXPY"
   ]
  },
  {
   "cell_type": "code",
   "execution_count": 1,
   "id": "f3c38103",
   "metadata": {},
   "outputs": [
    {
     "name": "stdout",
     "output_type": "stream",
     "text": [
      "Optimal value: 115.99999999625518\n",
      "Optimal solution: [ 4. 24.]\n"
     ]
    }
   ],
   "source": [
    "import cvxpy as cp\n",
    "\n",
    "x = cp.Variable(2, nonneg=True)\n",
    "objective = cp.Maximize(5*x[0] + 4*x[1])\n",
    "constraints = [2*x[0] + 3*x[1] <= 80,\n",
    "               3*x[0] + 2*x[1] <= 60,\n",
    "               3*x[0] + 2*x[1] <= 100]\n",
    "prob = cp.Problem(objective, constraints)\n",
    "prob.solve()\n",
    "\n",
    "print(\"Optimal value:\", prob.value)\n",
    "print(\"Optimal solution:\", x.value)"
   ]
  },
  {
   "cell_type": "markdown",
   "id": "db2cbadf",
   "metadata": {},
   "source": [
    "## Using GUROBIPY"
   ]
  },
  {
   "cell_type": "code",
   "execution_count": 2,
   "id": "ca9fe661",
   "metadata": {},
   "outputs": [
    {
     "name": "stdout",
     "output_type": "stream",
     "text": [
      "Restricted license - for non-production use only - expires 2024-10-28\n"
     ]
    },
    {
     "name": "stdout",
     "output_type": "stream",
     "text": [
      "Optimal value: 116.00000000000001\n",
      "Optimal solution: [4.000000000000003, 24.0]\n"
     ]
    }
   ],
   "source": [
    "import gurobipy as gp\n",
    "\n",
    "model = gp.Model()\n",
    "model.setParam('OutputFlag', 0)\n",
    "\n",
    "x = model.addVars(2, lb=0, vtype=gp.GRB.CONTINUOUS)\n",
    "objective = 5*x[0] + 4*x[1]\n",
    "model.setObjective(objective, sense=gp.GRB.MAXIMIZE)\n",
    "model.addConstr(2*x[0] + 3*x[1] <= 80)\n",
    "model.addConstr(3*x[0] + 2*x[1] <= 60)\n",
    "model.addConstr(3*x[0] + 2*x[1] <= 100)\n",
    "model.optimize()\n",
    "\n",
    "print(\"Optimal value:\", model.objVal)\n",
    "print(\"Optimal solution:\", [x[i].x for i in range(2)])"
   ]
  },
  {
   "cell_type": "markdown",
   "id": "4ef8201e",
   "metadata": {},
   "source": [
    "## Using MOSEK"
   ]
  },
  {
   "cell_type": "code",
   "execution_count": 3,
   "id": "0dc08eac",
   "metadata": {},
   "outputs": [
    {
     "name": "stdout",
     "output_type": "stream",
     "text": [
      "Optimal value: 116.0\n",
      "Optimal solution: [ 4. 24.]\n"
     ]
    }
   ],
   "source": [
    "import mosek.fusion as mf\n",
    "\n",
    "M = mf.Model('LP example')\n",
    "\n",
    "# Define variables\n",
    "x = M.variable('x', 2, mf.Domain.greaterThan(0.0))\n",
    "\n",
    "# Define objective\n",
    "c = [5.0, 4.0]\n",
    "M.objective('obj', mf.ObjectiveSense.Maximize, mf.Expr.dot(c, x))\n",
    "\n",
    "# Define constraints\n",
    "A = [[2.0, 3.0], [3.0, 2.0], [3.0, 2.0]]\n",
    "b = [80.0, 60.0, 100.0]\n",
    "for i in range(len(A)):\n",
    "    M.constraint('c{}'.format(i), mf.Expr.dot(A[i], x), mf.Domain.lessThan(b[i]))\n",
    "\n",
    "# Solve the problem\n",
    "M.solve()\n",
    "\n",
    "# Print the results\n",
    "\n",
    "print(\"Optimal value:\", M.primalObjValue()) \n",
    "print(\"Optimal solution:\", x.level())"
   ]
  },
  {
   "cell_type": "markdown",
   "id": "d20724c0",
   "metadata": {},
   "source": [
    "# Binary optimization problem \n",
    "In optimization, one of the most common types of problems is the Mixed Integer Programming (MIP) problem. This is a mathematical optimization problem where some of the variables are restricted to be integers. Binary Optimization, where the variables can only take on values of 0 or 1, is a special case of MIP.\n",
    "\n",
    "In this context, we will solve a binary optimization problem using CVXPY and GUROBI. The problem is to minimize the objective function $x_1 + x_2 + x_3$, subject to the constraints $x_1 + x_2 \\ge 2$, $x_2 + x_3 \\le 1$, and $x_1, x_2, x_3$ are binary variables. \n",
    "\n",
    "## Using CVXPY + GUROBI\n",
    "$$\n",
    "\\begin{aligned}\n",
    "&\\text{minimize } &&x_1 + x_2 + x_3 \\\\\n",
    "&\\text{subject to } &&x_1 + x_2 \\ge 2 \\\\\n",
    "&&&x_2 + x_3 \\le 1 \\\\\n",
    "&&&x_1, x_2, x_3 \\text{ are binary variables}\n",
    "\\end{aligned}\n",
    "$$"
   ]
  },
  {
   "cell_type": "code",
   "execution_count": 4,
   "id": "db8f8d43",
   "metadata": {},
   "outputs": [
    {
     "name": "stdout",
     "output_type": "stream",
     "text": [
      "CVXPY + GUROBI Solution:\n",
      "status: optimal\n",
      "optimal value: 2.0\n",
      "optimal x: [1. 1. 0.]\n"
     ]
    }
   ],
   "source": [
    "import cvxpy as cp\n",
    "\n",
    "# Define problem data\n",
    "A = [[1, 1, 0], [0, 1, 1]]\n",
    "b = [2, 1]\n",
    "\n",
    "# Define binary decision variables\n",
    "x = cp.Variable(3, boolean=True)\n",
    "\n",
    "# Define objective function\n",
    "obj = cp.sum(x)\n",
    "\n",
    "# Define constraints\n",
    "constraints = [\n",
    "    A[0] @ x >= b[0],\n",
    "    A[1] @ x <= b[1]\n",
    "]\n",
    "\n",
    "# Define the problem\n",
    "problem = cp.Problem(cp.Minimize(obj), constraints)\n",
    "\n",
    "# Solve the problem\n",
    "problem.solve(solver=cp.GUROBI)\n",
    "\n",
    "# Print results\n",
    "print(\"CVXPY + GUROBI Solution:\")\n",
    "print(\"status:\", problem.status)\n",
    "print(\"optimal value:\", obj.value)\n",
    "print(\"optimal x:\", x.value)"
   ]
  },
  {
   "cell_type": "markdown",
   "id": "ecd164dc",
   "metadata": {},
   "source": [
    "# Mixed-integer programming problem\n",
    "In many real-world problems, we encounter situations where decision variables must take on integer values. For example, in production planning, the number of items produced must be an integer value. MIP provides a way to find optimal solutions to these types of problems.\n",
    "\n",
    "In this example, we will solve a very simple MIP problem using CVXPY and GUROBI solver. Suppose we want to maximize the following objective function:\n",
    "\n",
    "$$\n",
    "\\begin{aligned}\n",
    "&\\text{maximize } &&3x_1 + 2x_2 \\\\\n",
    "&\\text{subject to } &&x_1 + x_2 \\leq 4 \\\\\n",
    "&&&x_1 \\ge 0 \\\\\n",
    "&&&x_2 \\ge 0 \\\\\n",
    "&&&x_1, x_2 \\in \\mathbb{Z}, \\text{ where $\\mathbb{Z}$ denotes the set of integers}\n",
    "\\end{aligned}\n",
    "$$ \n",
    "\n",
    "Here, we want to find integer values for $x_1$ and $x_2$ that satisfy the constraints and maximize the objective function. This is a very simple example, but it can help us understand the basic syntax and structure of solving MIP problems using CVXPY.\n",
    "\n",
    "## Using CVXPY + GUROBI"
   ]
  },
  {
   "cell_type": "code",
   "execution_count": 5,
   "id": "98d39bcc",
   "metadata": {},
   "outputs": [
    {
     "name": "stdout",
     "output_type": "stream",
     "text": [
      "Optimal solution: x1 = 4.0, x2 = -0.0\n",
      "Optimal value: 12.0\n"
     ]
    }
   ],
   "source": [
    "import cvxpy as cp\n",
    "import mosek\n",
    "\n",
    "# Define the variables\n",
    "x1 = cp.Variable(integer=True)\n",
    "x2 = cp.Variable(integer=True)\n",
    "\n",
    "# Define the objective function\n",
    "obj = cp.Maximize(3*x1 + 2*x2)\n",
    "\n",
    "# Define the constraints\n",
    "constr = [x1 + x2 <= 4, x1>=0, x2>=0]\n",
    "\n",
    "# Create the problem instance and solve it\n",
    "prob = cp.Problem(obj, constr)\n",
    "prob.solve(solver=cp.GUROBI)\n",
    "\n",
    "# Print the optimal solution and optimal value\n",
    "print(\"Optimal solution: x1 = {}, x2 = {}\".format(x1.value, x2.value))\n",
    "print(\"Optimal value: {}\".format(prob.value))"
   ]
  },
  {
   "cell_type": "markdown",
   "id": "468ca20d",
   "metadata": {},
   "source": [
    "# Nonlinear programming problem\n",
    "Nonlinear optimization is a type of optimization problem where the objective function or the constraints are nonlinear. Unlike linear optimization, nonlinear optimization problems can be more complex to solve due to the non-convexity of the objective function and/or constraints. \n",
    "\n",
    "In this example, we will consider a simple nonlinear optimization problem of minimizing a quadratic function subject to a linear constraint. We want to minimize the function $f(x) = x_1^2 + x_2^2$ subject to the constraint $x_1 + x_2 \\geq 1$. This problem can be solved using nonlinear optimization techniques such as gradient descent, Newton's method, or quasi-Newton methods. However, we will use cvxpy, a Python library for convex optimization, to solve this problem.\n",
    "\n",
    "We can express this as an optimization problem:\n",
    "\n",
    "$$\n",
    "\\begin{aligned}\n",
    "&\\text{minimize } &&x_1^2 + x_2^2 \\\\\n",
    "&\\text{subject to } &&x_1 + x_2 \\geq 1 \n",
    "\\end{aligned}\n",
    "$$\n",
    "\n",
    "To solve this problem using MOSEK, we first define the optimization variables and the objective function:\n",
    "\n",
    "## Using CVXPY + MOSEK"
   ]
  },
  {
   "cell_type": "code",
   "execution_count": 6,
   "id": "32d19b71",
   "metadata": {},
   "outputs": [
    {
     "name": "stdout",
     "output_type": "stream",
     "text": [
      "Optimal solution: x1 = 4.0, x2 = -0.0\n",
      "Optimal value: 12.0\n"
     ]
    }
   ],
   "source": [
    "import cvxpy as cp\n",
    "\n",
    "# Define the optimization variables\n",
    "x = cp.Variable(2)\n",
    "\n",
    "# Define the objective function\n",
    "objective = cp.Minimize(cp.sum_squares(x))\n",
    "\n",
    "# Define the constraint\n",
    "constraint = [x[0] + x[1] >= 1]\n",
    "\n",
    "# Create the optimization problem\n",
    "problem = cp.Problem(objective, constraint)\n",
    "\n",
    "# Solve the problem using the Mosek solver\n",
    "problem.solve(solver=cp.MOSEK)\n",
    "\n",
    "# Print the optimal solution and optimal value\n",
    "print(\"Optimal solution: x1 = {}, x2 = {}\".format(x1.value, x2.value))\n",
    "print(\"Optimal value: {}\".format(prob.value))"
   ]
  },
  {
   "cell_type": "markdown",
   "id": "cd14cb41",
   "metadata": {},
   "source": [
    "# Multi-objective optimization\n",
    "Goal programming, also known as multi-objective optimization, is a technique used to solve decision-making problems that involve multiple, often conflicting objectives. It is particularly useful in situations where there is no clear trade-off between objectives and all objectives are important.\n",
    "\n",
    "In goal programming, the decision maker identifies a set of goals or objectives to be achieved and then formulates a mathematical model that minimizes the deviations from those goals. The model typically includes decision variables, constraints, and a set of goals or objectives to be achieved. These goals or objectives can be of different types, such as maximizing or minimizing a certain quantity, achieving a certain level of performance, or meeting specific requirements. The model seeks to minimize these deviations subject to the constraints.\n",
    "\n",
    "The goals or objectives can be conflicting, meaning that achieving one may come at the expense of the other. In such cases, the decision maker must balance these conflicting objectives and find a solution that achieves a satisfactory compromise. This can be done by assigning weights to each objective, where higher weights indicate higher priority. Alternatively, penalty functions can be used to penalize deviations from certain objectives more heavily than others.\n",
    "\n",
    "For example, a company wants to maximize their profits, but also wants to ensure that they don't produce more than a certain amount of waste. They have three goals:\n",
    "\n",
    "* Maximize profits\n",
    "* Minimize waste produced\n",
    "* Achieve a certain level of production\n",
    " \n",
    "Let $x$ be the amount of product produced, $p$ be the profit per unit sold, and $w$ be the amount of waste produced per unit produced. Then we can formulate the following goal programming model:\n",
    "\n",
    "$$\n",
    "\\begin{aligned}\n",
    "&\\text{minimize } &&z_1 + z_2 + z_3\\\\\n",
    "&\\text{where}\n",
    "&&z_1 = | \\text{profit} - \\text{target profit}|\\\\\n",
    "&&&z_2 = | \\text{waste} - \\text{target waste}|\\\\\n",
    "&&&z_3 = |x - \\text{target production}|\\\\\n",
    "&\\text{subject to}\n",
    "&&\\text{profit} = p \\cdot x\\\\\n",
    "&&&\\text{waste} = w \\cdot x\\\\\n",
    "&&&x \\geq 0\\\\\n",
    "&&&\\text{profit} \\geq \\text{target profit}\\\\\n",
    "&&&\\text{waste} \\leq \\text{target waste}\\\\\n",
    "&&&x = \\text{target production}\n",
    "\\end{aligned}\n",
    "$$\n",
    "\n",
    "where target profit, target waste, and target production are the company's goals for each respective metric.\n",
    "\n",
    "We can solve this model using the CVXPY package with the GUROBI solver. Here's the code:\n",
    "\n",
    "## Using CVXPY + GUROBI"
   ]
  },
  {
   "cell_type": "code",
   "execution_count": 7,
   "id": "09b9b03b",
   "metadata": {},
   "outputs": [
    {
     "name": "stdout",
     "output_type": "stream",
     "text": [
      "Status:  optimal\n",
      "Optimal value:  1400.0\n",
      "Optimal x:  200.0\n",
      "Profit:  2000.0\n",
      "Waste:  100.0\n"
     ]
    }
   ],
   "source": [
    "import cvxpy as cp\n",
    "import numpy as np\n",
    "\n",
    "# Define the problem data\n",
    "p = 10  # profit per unit sold\n",
    "w = 0.5  # waste per unit produced\n",
    "target_profit = 1000\n",
    "target_waste = 500\n",
    "target_production = 200\n",
    "\n",
    "# Define the decision variables\n",
    "x = cp.Variable()\n",
    "\n",
    "# Define the constraints\n",
    "constraints = [x >= 0,\n",
    "               p * x >= target_profit,\n",
    "               w * x <= target_waste,\n",
    "               x == target_production]\n",
    "\n",
    "# Define the objective function\n",
    "objective = cp.Minimize(cp.abs(p * x - target_profit) +\n",
    "                        cp.abs(w * x - target_waste) +\n",
    "                        cp.abs(x - target_production))\n",
    "\n",
    "# Solve the problem\n",
    "prob = cp.Problem(objective, constraints)\n",
    "prob.solve(solver=cp.GUROBI)\n",
    "\n",
    "# Print the results\n",
    "print(\"Status: \", prob.status)\n",
    "print(\"Optimal value: \", prob.value)\n",
    "print(\"Optimal x: \", x.value)\n",
    "print(\"Profit: \", p * x.value)\n",
    "print(\"Waste: \", w * x.value)"
   ]
  },
  {
   "cell_type": "markdown",
   "id": "adfbb518",
   "metadata": {},
   "source": [
    "# Blended Multiobjective Optimization\n",
    "A blended multiobjective optimization problem involves finding a solution that minimizes a weighted sum of multiple objectives. Here is an example:\n",
    "\n",
    "$$\n",
    "\\begin{aligned}\n",
    "&\\text{minimize} && 0.4x_1 + 0.6x_2 \\\\\n",
    "&\\text{subject to} \n",
    "&&-2x_1 + 3x_2 \\geq 6 \\\\\n",
    "& &&3x_1 + 2x_2 \\geq 12 \\\\\n",
    "& &&x_1, x_2 \\geq 0 \\\\\n",
    "\\end{aligned}\n",
    "$$\n",
    "\n",
    "In this example, we want to minimize a linear combination of two objectives, $x_1$ and $x_2$, subject to two linear constraints.\n",
    "\n",
    "Here is the Python code to solve a the blended multiobjective optimization problem using CVXPY and Gurobi:\n",
    "## Using CVXPY + GUROBI"
   ]
  },
  {
   "cell_type": "code",
   "execution_count": 8,
   "id": "2a22e7cb",
   "metadata": {},
   "outputs": [
    {
     "name": "stdout",
     "output_type": "stream",
     "text": [
      "Optimal value = 2.676923076923077\n",
      "Optimal solution = [1.84615385 3.23076923]\n"
     ]
    }
   ],
   "source": [
    "import cvxpy as cp\n",
    "from gurobipy import *\n",
    "\n",
    "# Define the problem data\n",
    "n = 2\n",
    "m = 2\n",
    "A = np.array([[-2, 3], [3, 2]])\n",
    "b = np.array([6, 12])\n",
    "c = np.array([0.4, 0.6])\n",
    "\n",
    "# Define the decision variables\n",
    "x = cp.Variable(n)\n",
    "\n",
    "# Define the objective function\n",
    "obj = cp.Minimize(c @ x)\n",
    "\n",
    "# Define the constraints\n",
    "constraints = [A @ x >= b, x >= 0]\n",
    "\n",
    "# Solve the problem using CVXPY and Gurobi\n",
    "prob = cp.Problem(obj, constraints)\n",
    "prob.solve(solver=cp.GUROBI)\n",
    "\n",
    "# Print the optimal value and the optimal solution\n",
    "print(\"Optimal value =\", prob.value)\n",
    "print(\"Optimal solution =\", x.value)"
   ]
  },
  {
   "cell_type": "markdown",
   "id": "25f89dfa",
   "metadata": {},
   "source": [
    "# Hierarchical Multiobjective Optimization\n",
    "A hierarchical multiobjective optimization problem involves optimizing multiple objectives in a hierarchical manner. Here is an example:\n",
    "\n",
    "$$\n",
    "\\begin{aligned}\n",
    "&\\text{maximize} && f_1(x) \\\\\n",
    "&\\text{subject to} && g(x) \\leq 0 \\\\\n",
    "\\end{aligned}\n",
    "$$\n",
    "\n",
    "For the minimization problem:\n",
    "\n",
    "$$\n",
    "\\begin{aligned}\n",
    "&\\text{minimize} && f_2(x) \\\\\n",
    "&\\text{subject to} && h(x) \\leq 0 \\\n",
    "\\end{aligned}\n",
    "$$\n",
    "\n",
    "In this example, we first maximize f1(x) subject to a constraint g(x) <= 0. Then, we minimize f2(x) subject to a constraint h(x) <= 0.\n",
    "\n",
    "Here is the Python code to solve a hierarchical multiobjective optimization problem using CVXPY and Gurobi:\n",
    "\n",
    "## Using CVXPY + GUROBI"
   ]
  },
  {
   "cell_type": "code",
   "execution_count": 9,
   "id": "ab68bdd5",
   "metadata": {},
   "outputs": [
    {
     "name": "stdout",
     "output_type": "stream",
     "text": [
      "Level 1\n",
      "Optimal value = 0.0\n",
      "Optimal solution = [0. 0.]\n"
     ]
    },
    {
     "ename": "DCPError",
     "evalue": "Problem does not follow DCP rules. Specifically:\nThe objective is not DCP, even though each sub-expression is.\nYou are trying to maximize a function that is convex.",
     "output_type": "error",
     "traceback": [
      "\u001b[0;31m---------------------------------------------------------------------------\u001b[0m",
      "\u001b[0;31mDCPError\u001b[0m                                  Traceback (most recent call last)",
      "Cell \u001b[0;32mIn[9], line 34\u001b[0m\n\u001b[1;32m     32\u001b[0m \u001b[38;5;66;03m# Solve the problem using CVXPY\u001b[39;00m\n\u001b[1;32m     33\u001b[0m prob \u001b[38;5;241m=\u001b[39m cp\u001b[38;5;241m.\u001b[39mProblem(cp\u001b[38;5;241m.\u001b[39mMaximize(hierarchy[\u001b[38;5;241m1\u001b[39m]), constraints)\n\u001b[0;32m---> 34\u001b[0m \u001b[43mprob\u001b[49m\u001b[38;5;241;43m.\u001b[39;49m\u001b[43msolve\u001b[49m\u001b[43m(\u001b[49m\u001b[43m)\u001b[49m\n\u001b[1;32m     36\u001b[0m \u001b[38;5;66;03m# Print the optimal value and the optimal solution for the second level\u001b[39;00m\n\u001b[1;32m     37\u001b[0m \u001b[38;5;28mprint\u001b[39m(\u001b[38;5;124m\"\u001b[39m\u001b[38;5;124mLevel 2\u001b[39m\u001b[38;5;124m\"\u001b[39m)\n",
      "File \u001b[0;32m/opt/homebrew/Caskroom/miniconda/base/envs/cvxpy_env/lib/python3.10/site-packages/cvxpy/problems/problem.py:493\u001b[0m, in \u001b[0;36mProblem.solve\u001b[0;34m(self, *args, **kwargs)\u001b[0m\n\u001b[1;32m    491\u001b[0m \u001b[38;5;28;01melse\u001b[39;00m:\n\u001b[1;32m    492\u001b[0m     solve_func \u001b[38;5;241m=\u001b[39m Problem\u001b[38;5;241m.\u001b[39m_solve\n\u001b[0;32m--> 493\u001b[0m \u001b[38;5;28;01mreturn\u001b[39;00m \u001b[43msolve_func\u001b[49m\u001b[43m(\u001b[49m\u001b[38;5;28;43mself\u001b[39;49m\u001b[43m,\u001b[49m\u001b[43m \u001b[49m\u001b[38;5;241;43m*\u001b[39;49m\u001b[43margs\u001b[49m\u001b[43m,\u001b[49m\u001b[43m \u001b[49m\u001b[38;5;241;43m*\u001b[39;49m\u001b[38;5;241;43m*\u001b[39;49m\u001b[43mkwargs\u001b[49m\u001b[43m)\u001b[49m\n",
      "File \u001b[0;32m/opt/homebrew/Caskroom/miniconda/base/envs/cvxpy_env/lib/python3.10/site-packages/cvxpy/problems/problem.py:1054\u001b[0m, in \u001b[0;36mProblem._solve\u001b[0;34m(self, solver, warm_start, verbose, gp, qcp, requires_grad, enforce_dpp, ignore_dpp, canon_backend, **kwargs)\u001b[0m\n\u001b[1;32m   1051\u001b[0m         \u001b[38;5;28mself\u001b[39m\u001b[38;5;241m.\u001b[39munpack(chain\u001b[38;5;241m.\u001b[39mretrieve(soln))\n\u001b[1;32m   1052\u001b[0m         \u001b[38;5;28;01mreturn\u001b[39;00m \u001b[38;5;28mself\u001b[39m\u001b[38;5;241m.\u001b[39mvalue\n\u001b[0;32m-> 1054\u001b[0m data, solving_chain, inverse_data \u001b[38;5;241m=\u001b[39m \u001b[38;5;28;43mself\u001b[39;49m\u001b[38;5;241;43m.\u001b[39;49m\u001b[43mget_problem_data\u001b[49m\u001b[43m(\u001b[49m\n\u001b[1;32m   1055\u001b[0m \u001b[43m    \u001b[49m\u001b[43msolver\u001b[49m\u001b[43m,\u001b[49m\u001b[43m \u001b[49m\u001b[43mgp\u001b[49m\u001b[43m,\u001b[49m\u001b[43m \u001b[49m\u001b[43menforce_dpp\u001b[49m\u001b[43m,\u001b[49m\u001b[43m \u001b[49m\u001b[43mignore_dpp\u001b[49m\u001b[43m,\u001b[49m\u001b[43m \u001b[49m\u001b[43mverbose\u001b[49m\u001b[43m,\u001b[49m\u001b[43m \u001b[49m\u001b[43mcanon_backend\u001b[49m\u001b[43m,\u001b[49m\u001b[43m \u001b[49m\u001b[43mkwargs\u001b[49m\n\u001b[1;32m   1056\u001b[0m \u001b[43m\u001b[49m\u001b[43m)\u001b[49m\n\u001b[1;32m   1058\u001b[0m \u001b[38;5;28;01mif\u001b[39;00m verbose:\n\u001b[1;32m   1059\u001b[0m     \u001b[38;5;28mprint\u001b[39m(_NUM_SOLVER_STR)\n",
      "File \u001b[0;32m/opt/homebrew/Caskroom/miniconda/base/envs/cvxpy_env/lib/python3.10/site-packages/cvxpy/problems/problem.py:631\u001b[0m, in \u001b[0;36mProblem.get_problem_data\u001b[0;34m(self, solver, gp, enforce_dpp, ignore_dpp, verbose, canon_backend, solver_opts)\u001b[0m\n\u001b[1;32m    629\u001b[0m \u001b[38;5;28;01mif\u001b[39;00m key \u001b[38;5;241m!=\u001b[39m \u001b[38;5;28mself\u001b[39m\u001b[38;5;241m.\u001b[39m_cache\u001b[38;5;241m.\u001b[39mkey:\n\u001b[1;32m    630\u001b[0m     \u001b[38;5;28mself\u001b[39m\u001b[38;5;241m.\u001b[39m_cache\u001b[38;5;241m.\u001b[39minvalidate()\n\u001b[0;32m--> 631\u001b[0m     solving_chain \u001b[38;5;241m=\u001b[39m \u001b[38;5;28;43mself\u001b[39;49m\u001b[38;5;241;43m.\u001b[39;49m\u001b[43m_construct_chain\u001b[49m\u001b[43m(\u001b[49m\n\u001b[1;32m    632\u001b[0m \u001b[43m        \u001b[49m\u001b[43msolver\u001b[49m\u001b[38;5;241;43m=\u001b[39;49m\u001b[43msolver\u001b[49m\u001b[43m,\u001b[49m\u001b[43m \u001b[49m\u001b[43mgp\u001b[49m\u001b[38;5;241;43m=\u001b[39;49m\u001b[43mgp\u001b[49m\u001b[43m,\u001b[49m\n\u001b[1;32m    633\u001b[0m \u001b[43m        \u001b[49m\u001b[43menforce_dpp\u001b[49m\u001b[38;5;241;43m=\u001b[39;49m\u001b[43menforce_dpp\u001b[49m\u001b[43m,\u001b[49m\n\u001b[1;32m    634\u001b[0m \u001b[43m        \u001b[49m\u001b[43mignore_dpp\u001b[49m\u001b[38;5;241;43m=\u001b[39;49m\u001b[43mignore_dpp\u001b[49m\u001b[43m,\u001b[49m\n\u001b[1;32m    635\u001b[0m \u001b[43m        \u001b[49m\u001b[43mcanon_backend\u001b[49m\u001b[38;5;241;43m=\u001b[39;49m\u001b[43mcanon_backend\u001b[49m\u001b[43m,\u001b[49m\n\u001b[1;32m    636\u001b[0m \u001b[43m        \u001b[49m\u001b[43msolver_opts\u001b[49m\u001b[38;5;241;43m=\u001b[39;49m\u001b[43msolver_opts\u001b[49m\u001b[43m)\u001b[49m\n\u001b[1;32m    637\u001b[0m     \u001b[38;5;28mself\u001b[39m\u001b[38;5;241m.\u001b[39m_cache\u001b[38;5;241m.\u001b[39mkey \u001b[38;5;241m=\u001b[39m key\n\u001b[1;32m    638\u001b[0m     \u001b[38;5;28mself\u001b[39m\u001b[38;5;241m.\u001b[39m_cache\u001b[38;5;241m.\u001b[39msolving_chain \u001b[38;5;241m=\u001b[39m solving_chain\n",
      "File \u001b[0;32m/opt/homebrew/Caskroom/miniconda/base/envs/cvxpy_env/lib/python3.10/site-packages/cvxpy/problems/problem.py:883\u001b[0m, in \u001b[0;36mProblem._construct_chain\u001b[0;34m(self, solver, gp, enforce_dpp, ignore_dpp, canon_backend, solver_opts)\u001b[0m\n\u001b[1;32m    881\u001b[0m candidate_solvers \u001b[38;5;241m=\u001b[39m \u001b[38;5;28mself\u001b[39m\u001b[38;5;241m.\u001b[39m_find_candidate_solvers(solver\u001b[38;5;241m=\u001b[39msolver, gp\u001b[38;5;241m=\u001b[39mgp)\n\u001b[1;32m    882\u001b[0m \u001b[38;5;28mself\u001b[39m\u001b[38;5;241m.\u001b[39m_sort_candidate_solvers(candidate_solvers)\n\u001b[0;32m--> 883\u001b[0m \u001b[38;5;28;01mreturn\u001b[39;00m \u001b[43mconstruct_solving_chain\u001b[49m\u001b[43m(\u001b[49m\u001b[38;5;28;43mself\u001b[39;49m\u001b[43m,\u001b[49m\u001b[43m \u001b[49m\u001b[43mcandidate_solvers\u001b[49m\u001b[43m,\u001b[49m\u001b[43m \u001b[49m\u001b[43mgp\u001b[49m\u001b[38;5;241;43m=\u001b[39;49m\u001b[43mgp\u001b[49m\u001b[43m,\u001b[49m\n\u001b[1;32m    884\u001b[0m \u001b[43m                               \u001b[49m\u001b[43menforce_dpp\u001b[49m\u001b[38;5;241;43m=\u001b[39;49m\u001b[43menforce_dpp\u001b[49m\u001b[43m,\u001b[49m\n\u001b[1;32m    885\u001b[0m \u001b[43m                               \u001b[49m\u001b[43mignore_dpp\u001b[49m\u001b[38;5;241;43m=\u001b[39;49m\u001b[43mignore_dpp\u001b[49m\u001b[43m,\u001b[49m\n\u001b[1;32m    886\u001b[0m \u001b[43m                               \u001b[49m\u001b[43mcanon_backend\u001b[49m\u001b[38;5;241;43m=\u001b[39;49m\u001b[43mcanon_backend\u001b[49m\u001b[43m,\u001b[49m\n\u001b[1;32m    887\u001b[0m \u001b[43m                               \u001b[49m\u001b[43msolver_opts\u001b[49m\u001b[38;5;241;43m=\u001b[39;49m\u001b[43msolver_opts\u001b[49m\u001b[43m)\u001b[49m\n",
      "File \u001b[0;32m/opt/homebrew/Caskroom/miniconda/base/envs/cvxpy_env/lib/python3.10/site-packages/cvxpy/reductions/solvers/solving_chain.py:184\u001b[0m, in \u001b[0;36mconstruct_solving_chain\u001b[0;34m(problem, candidates, gp, enforce_dpp, ignore_dpp, canon_backend, solver_opts)\u001b[0m\n\u001b[1;32m    182\u001b[0m \u001b[38;5;28;01mif\u001b[39;00m \u001b[38;5;28mlen\u001b[39m(problem\u001b[38;5;241m.\u001b[39mvariables()) \u001b[38;5;241m==\u001b[39m \u001b[38;5;241m0\u001b[39m:\n\u001b[1;32m    183\u001b[0m     \u001b[38;5;28;01mreturn\u001b[39;00m SolvingChain(reductions\u001b[38;5;241m=\u001b[39m[ConstantSolver()])\n\u001b[0;32m--> 184\u001b[0m reductions \u001b[38;5;241m=\u001b[39m \u001b[43m_reductions_for_problem_class\u001b[49m\u001b[43m(\u001b[49m\u001b[43mproblem\u001b[49m\u001b[43m,\u001b[49m\u001b[43m \u001b[49m\u001b[43mcandidates\u001b[49m\u001b[43m,\u001b[49m\u001b[43m \u001b[49m\u001b[43mgp\u001b[49m\u001b[43m,\u001b[49m\u001b[43m \u001b[49m\u001b[43msolver_opts\u001b[49m\u001b[43m)\u001b[49m\n\u001b[1;32m    186\u001b[0m \u001b[38;5;66;03m# Process DPP status of the problem.\u001b[39;00m\n\u001b[1;32m    187\u001b[0m dpp_context \u001b[38;5;241m=\u001b[39m \u001b[38;5;124m'\u001b[39m\u001b[38;5;124mdcp\u001b[39m\u001b[38;5;124m'\u001b[39m \u001b[38;5;28;01mif\u001b[39;00m \u001b[38;5;129;01mnot\u001b[39;00m gp \u001b[38;5;28;01melse\u001b[39;00m \u001b[38;5;124m'\u001b[39m\u001b[38;5;124mdgp\u001b[39m\u001b[38;5;124m'\u001b[39m\n",
      "File \u001b[0;32m/opt/homebrew/Caskroom/miniconda/base/envs/cvxpy_env/lib/python3.10/site-packages/cvxpy/reductions/solvers/solving_chain.py:102\u001b[0m, in \u001b[0;36m_reductions_for_problem_class\u001b[0;34m(problem, candidates, gp, solver_opts)\u001b[0m\n\u001b[1;32m     99\u001b[0m     \u001b[38;5;28;01melif\u001b[39;00m problem\u001b[38;5;241m.\u001b[39mis_dqcp():\n\u001b[1;32m    100\u001b[0m         append \u001b[38;5;241m+\u001b[39m\u001b[38;5;241m=\u001b[39m (\u001b[38;5;124m\"\u001b[39m\u001b[38;5;130;01m\\n\u001b[39;00m\u001b[38;5;124mHowever, the problem does follow DQCP rules. \u001b[39m\u001b[38;5;124m\"\u001b[39m\n\u001b[1;32m    101\u001b[0m                    \u001b[38;5;124m\"\u001b[39m\u001b[38;5;124mConsider calling solve() with `qcp=True`.\u001b[39m\u001b[38;5;124m\"\u001b[39m)\n\u001b[0;32m--> 102\u001b[0m     \u001b[38;5;28;01mraise\u001b[39;00m DCPError(\n\u001b[1;32m    103\u001b[0m         \u001b[38;5;124m\"\u001b[39m\u001b[38;5;124mProblem does not follow DCP rules. Specifically:\u001b[39m\u001b[38;5;130;01m\\n\u001b[39;00m\u001b[38;5;124m\"\u001b[39m \u001b[38;5;241m+\u001b[39m append)\n\u001b[1;32m    104\u001b[0m \u001b[38;5;28;01melif\u001b[39;00m gp \u001b[38;5;129;01mand\u001b[39;00m \u001b[38;5;129;01mnot\u001b[39;00m problem\u001b[38;5;241m.\u001b[39mis_dgp():\n\u001b[1;32m    105\u001b[0m     append \u001b[38;5;241m=\u001b[39m build_non_disciplined_error_msg(problem, \u001b[38;5;124m'\u001b[39m\u001b[38;5;124mDGP\u001b[39m\u001b[38;5;124m'\u001b[39m)\n",
      "\u001b[0;31mDCPError\u001b[0m: Problem does not follow DCP rules. Specifically:\nThe objective is not DCP, even though each sub-expression is.\nYou are trying to maximize a function that is convex."
     ]
    }
   ],
   "source": [
    "import cvxpy as cp\n",
    "\n",
    "# Define the problem data\n",
    "n = 2\n",
    "\n",
    "# Define the decision variables\n",
    "x = cp.Variable(n)\n",
    "\n",
    "# Define the first level objective function and constraint\n",
    "f1 = cp.sum_squares(x)\n",
    "g = x[0] + x[1] - 1\n",
    "\n",
    "# Define the second level objective function and constraint\n",
    "f2 = cp.norm(x - [1, 0], 2)\n",
    "h = x[0] - x[1] - 1\n",
    "\n",
    "# Define the hierarchy\n",
    "hierarchy = [f1, f2]\n",
    "\n",
    "# Define the constraints\n",
    "constraints = [g <= 0, h <= 0]\n",
    "\n",
    "# Solve the problem using CVXPY\n",
    "prob = cp.Problem(cp.Minimize(hierarchy[0]), constraints)\n",
    "prob.solve()\n",
    "\n",
    "# Print the optimal value and the optimal solution for the first level\n",
    "print(\"Level 1\")\n",
    "print(\"Optimal value =\", prob.value)\n",
    "print(\"Optimal solution =\", x.value)\n",
    "\n",
    "# Solve the problem using CVXPY\n",
    "prob = cp.Problem(cp.Maximize(hierarchy[1]), constraints)\n",
    "prob.solve()\n",
    "\n",
    "# Print the optimal value and the optimal solution for the second level\n",
    "print(\"Level 2\")\n",
    "print(\"Optimal value =\", prob.value)\n",
    "print(\"Optimal solution =\", x.value)"
   ]
  }
 ],
 "metadata": {
  "jupytext": {
   "cell_metadata_filter": "-all",
   "formats": "md:myst",
   "text_representation": {
    "extension": ".md",
    "format_name": "myst",
    "format_version": 0.13,
    "jupytext_version": "1.11.5"
   }
  },
  "kernelspec": {
   "display_name": "Python 3",
   "language": "python",
   "name": "python3"
  },
  "language_info": {
   "codemirror_mode": {
    "name": "ipython",
    "version": 3
   },
   "file_extension": ".py",
   "mimetype": "text/x-python",
   "name": "python",
   "nbconvert_exporter": "python",
   "pygments_lexer": "ipython3",
   "version": "3.10.9"
  },
  "source_map": [
   14,
   55,
   68,
   72,
   88,
   91,
   116,
   133,
   163,
   183,
   204,
   224,
   245,
   284,
   319,
   338,
   365,
   392
  ]
 },
 "nbformat": 4,
 "nbformat_minor": 5
}