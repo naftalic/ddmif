{
 "cells": [
  {
   "cell_type": "markdown",
   "id": "d1327ddd",
   "metadata": {},
   "source": [
    "# Practical Optimization\n",
    "\n",
    "Let us consider the following simple Linear Programing Model:\n",
    "\n",
    "$$\n",
    "\\begin{align*}\n",
    "&\\text{Maximize}\\quad &2x + 3y\\\\\n",
    "&\\text{Subject to:}\n",
    "&x + y \\le 4\\\\\n",
    "&&x \\ge 0\\\\\n",
    "&&y \\ge 0\\\\\n",
    "\\end{align*}\n",
    "$$\n",
    "\n",
    "To solve this problem using cvxpy, gurobipy, and mosek, we will need to install these libraries first. Here are the installation commands for each library using pip:\n",
    "\n",
    "\n",
    "Once we have these libraries installed, we can write the code to solve the LP model using each of them.\n",
    "\n",
    "## Using CVXPY"
   ]
  },
  {
   "cell_type": "code",
   "execution_count": 1,
   "id": "cb0b7da5",
   "metadata": {},
   "outputs": [
    {
     "name": "stdout",
     "output_type": "stream",
     "text": [
      "Optimal value of x: 0.0\n",
      "Optimal value of y: 4.0\n"
     ]
    }
   ],
   "source": [
    "import cvxpy as cp\n",
    "\n",
    "# Define the variables\n",
    "x = cp.Variable()\n",
    "y = cp.Variable()\n",
    "\n",
    "# Define the objective function\n",
    "objective = cp.Maximize(2*x + 3*y)\n",
    "\n",
    "# Define the constraints\n",
    "constraints = [\n",
    "    x + y <= 4,\n",
    "    x >= 0,\n",
    "    y >= 0\n",
    "]\n",
    "\n",
    "# Define the problem\n",
    "problem = cp.Problem(objective, constraints)\n",
    "\n",
    "# Solve the problem\n",
    "problem.solve()\n",
    "\n",
    "# Print the optimal values of x and y\n",
    "print(\"Optimal value of x:\", x.value)\n",
    "print(\"Optimal value of y:\", y.value)"
   ]
  },
  {
   "cell_type": "markdown",
   "id": "e24bdfdf",
   "metadata": {},
   "source": [
    "## Using Gurobipy"
   ]
  },
  {
   "cell_type": "code",
   "execution_count": 2,
   "id": "668a5729",
   "metadata": {},
   "outputs": [
    {
     "name": "stdout",
     "output_type": "stream",
     "text": [
      "Restricted license - for non-production use only - expires 2024-10-28\n"
     ]
    },
    {
     "name": "stdout",
     "output_type": "stream",
     "text": [
      "Gurobi Optimizer version 10.0.1 build v10.0.1rc0 (mac64[arm])\n"
     ]
    },
    {
     "name": "stdout",
     "output_type": "stream",
     "text": [
      "\n"
     ]
    },
    {
     "name": "stdout",
     "output_type": "stream",
     "text": [
      "CPU model: Apple M1 Pro\n"
     ]
    },
    {
     "name": "stdout",
     "output_type": "stream",
     "text": [
      "Thread count: 10 physical cores, 10 logical processors, using up to 10 threads\n"
     ]
    },
    {
     "name": "stdout",
     "output_type": "stream",
     "text": [
      "\n"
     ]
    },
    {
     "name": "stdout",
     "output_type": "stream",
     "text": [
      "Optimize a model with 1 rows, 2 columns and 2 nonzeros\n"
     ]
    },
    {
     "name": "stdout",
     "output_type": "stream",
     "text": [
      "Model fingerprint: 0xcb2c77f1\n"
     ]
    },
    {
     "name": "stdout",
     "output_type": "stream",
     "text": [
      "Coefficient statistics:\n"
     ]
    },
    {
     "name": "stdout",
     "output_type": "stream",
     "text": [
      "  Matrix range     [1e+00, 1e+00]\n"
     ]
    },
    {
     "name": "stdout",
     "output_type": "stream",
     "text": [
      "  Objective range  [2e+00, 3e+00]\n"
     ]
    },
    {
     "name": "stdout",
     "output_type": "stream",
     "text": [
      "  Bounds range     [0e+00, 0e+00]\n"
     ]
    },
    {
     "name": "stdout",
     "output_type": "stream",
     "text": [
      "  RHS range        [4e+00, 4e+00]\n"
     ]
    },
    {
     "name": "stdout",
     "output_type": "stream",
     "text": [
      "Presolve removed 1 rows and 2 columns\n"
     ]
    },
    {
     "name": "stdout",
     "output_type": "stream",
     "text": [
      "Presolve time: 0.00s\n"
     ]
    },
    {
     "name": "stdout",
     "output_type": "stream",
     "text": [
      "Presolve: All rows and columns removed\n"
     ]
    },
    {
     "name": "stdout",
     "output_type": "stream",
     "text": [
      "Iteration    Objective       Primal Inf.    Dual Inf.      Time\n"
     ]
    },
    {
     "name": "stdout",
     "output_type": "stream",
     "text": [
      "       0    1.2000000e+01   0.000000e+00   0.000000e+00      0s\n"
     ]
    },
    {
     "name": "stdout",
     "output_type": "stream",
     "text": [
      "\n"
     ]
    },
    {
     "name": "stdout",
     "output_type": "stream",
     "text": [
      "Solved in 0 iterations and 0.01 seconds (0.00 work units)\n"
     ]
    },
    {
     "name": "stdout",
     "output_type": "stream",
     "text": [
      "Optimal objective  1.200000000e+01\n"
     ]
    },
    {
     "name": "stdout",
     "output_type": "stream",
     "text": [
      "Optimal value of x: 0.0\n",
      "Optimal value of y: 4.0\n"
     ]
    }
   ],
   "source": [
    "import gurobipy as gp\n",
    "\n",
    "# Create a new model\n",
    "model = gp.Model()\n",
    "\n",
    "# Define the variables\n",
    "x = model.addVar(lb=0, name=\"x\")\n",
    "y = model.addVar(lb=0, name=\"y\")\n",
    "\n",
    "# Define the objective function\n",
    "objective = 2*x + 3*y\n",
    "\n",
    "# Add the objective function to the model\n",
    "model.setObjective(objective, gp.GRB.MAXIMIZE)\n",
    "\n",
    "# Add the constraints\n",
    "model.addConstr(x + y <= 4, \"c1\")\n",
    "\n",
    "# Optimize the model\n",
    "model.optimize()\n",
    "\n",
    "# Print the optimal values of x and y\n",
    "print(\"Optimal value of x:\", x.x)\n",
    "print(\"Optimal value of y:\", y.x)"
   ]
  },
  {
   "cell_type": "markdown",
   "id": "abde8e8b",
   "metadata": {},
   "source": [
    "## Using Mosek"
   ]
  },
  {
   "cell_type": "code",
   "execution_count": 3,
   "id": "49eac37b",
   "metadata": {},
   "outputs": [
    {
     "ename": "AttributeError",
     "evalue": "'Task' object has no attribute 'appndvars'",
     "output_type": "error",
     "traceback": [
      "\u001b[0;31m---------------------------------------------------------------------------\u001b[0m",
      "\u001b[0;31mAttributeError\u001b[0m                            Traceback (most recent call last)",
      "Cell \u001b[0;32mIn[3], line 10\u001b[0m\n\u001b[1;32m      7\u001b[0m task\u001b[38;5;241m.\u001b[39mputobjsense(mosek\u001b[38;5;241m.\u001b[39mobjsense\u001b[38;5;241m.\u001b[39mmaximize)\n\u001b[1;32m      9\u001b[0m \u001b[38;5;66;03m# Define the variables\u001b[39;00m\n\u001b[0;32m---> 10\u001b[0m x_idx \u001b[38;5;241m=\u001b[39m \u001b[43mtask\u001b[49m\u001b[38;5;241;43m.\u001b[39;49m\u001b[43mappndvars\u001b[49m(\u001b[38;5;241m1\u001b[39m)\n\u001b[1;32m     11\u001b[0m y_idx \u001b[38;5;241m=\u001b[39m task\u001b[38;5;241m.\u001b[39mappndvars(\u001b[38;5;241m1\u001b[39m)\n\u001b[1;32m     13\u001b[0m \u001b[38;5;66;03m# Define the objective function\u001b[39;00m\n",
      "\u001b[0;31mAttributeError\u001b[0m: 'Task' object has no attribute 'appndvars'"
     ]
    }
   ],
   "source": [
    "import mosek\n",
    "\n",
    "# Create a new optimization task\n",
    "with mosek.Env() as env:\n",
    "    with env.Task() as task:\n",
    "        # Set the optimization sense to maximize\n",
    "        task.putobjsense(mosek.objsense.maximize)\n",
    "\n",
    "        # Define the variables\n",
    "        x_idx = task.appndvars(1)\n",
    "        y_idx = task.appndvars(1)\n",
    "\n",
    "        # Define the objective function\n",
    "        task.putcj(x_idx, 2)\n",
    "        task.putcj(y_idx, 3)\n",
    "\n",
    "        # Add the constraints\n",
    "        task.putconbound(0, mosek.boundkey.up, 4)\n",
    "        task.putaij(0, x_idx, 1)\n",
    "        task.putaij(0, y_idx, 1)\n",
    "\n",
    "        # Optimize the task\n",
    "        task.optimize()\n",
    "\n",
    "        # Print the optimal values of x and y\n",
    "        print(\"Optimal value of x:\", task.getxx(x_idx)[0])\n",
    "        print(\"Optimal value of y:\", task.getxx(y_idx)[0])"
   ]
  }
 ],
 "metadata": {
  "jupytext": {
   "cell_metadata_filter": "-all",
   "formats": "md:myst",
   "text_representation": {
    "extension": ".md",
    "format_name": "myst",
    "format_version": 0.13,
    "jupytext_version": "1.11.5"
   }
  },
  "kernelspec": {
   "display_name": "Python 3",
   "language": "python",
   "name": "python3"
  },
  "language_info": {
   "codemirror_mode": {
    "name": "ipython",
    "version": 3
   },
   "file_extension": ".py",
   "mimetype": "text/x-python",
   "name": "python",
   "nbconvert_exporter": "python",
   "pygments_lexer": "ipython3",
   "version": "3.10.9"
  },
  "source_map": [
   14,
   37,
   63,
   67,
   92,
   95
  ]
 },
 "nbformat": 4,
 "nbformat_minor": 5
}