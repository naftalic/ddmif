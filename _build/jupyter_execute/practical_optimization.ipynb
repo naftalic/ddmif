{
 "cells": [
  {
   "cell_type": "markdown",
   "id": "f654ad9f",
   "metadata": {},
   "source": [
    "# Practical Optimization\n",
    "\n",
    "# Simple Linear Programing (LP) model\n",
    "Let us consider the following simple Linear Programing (LP) model for a company that produces two products, Product A and Product B:\n",
    "\n",
    "Product A requires 2 hours of labor and 3 pounds of material to produce one unit. The company has 80 hours of labor available and 120 pounds of material available.\n",
    "Product B requires 3 hours of labor and 2 pounds of material to produce one unit. The company has 60 hours of labor available and 100 pounds of material available.\n",
    "The profit for each unit of Product A is \\$5, and the profit for each unit of Product B is \\$4.\n",
    "The objective is to maximize the company's profit subject to the available resources. Let's call the number of units of Product A produced $x_1$ and the number of units of Product B produced $x_2$. Then, the LP model is:\n",
    "\n",
    "$$\n",
    "\\begin{align*}\n",
    "&\\text{Maximize} &5x1 + 4x2 & \\\\\n",
    "&\\text{Subject to} &2x1 + 3x2 <= 80   \\quad &\\text{(labor constraint for Product A)} \\\\\n",
    "& &3x1 + 2x2 <= 60  \\quad &\\text{(labor constraint for Product B)} \\\\\n",
    "& &3x1 + 2x2 <= 100 \\quad &\\text{(material constraint for both products)} \\\\\n",
    "& &x1, x2 >= 0      \\quad &\\text{(non-negativity constraint)}\n",
    "\\end{align*}\n",
    "$$\n",
    "\n",
    "Now, let's solve this LP model using cvxpy, gurobipy, and mosek in Python\n",
    "\n",
    "## Using cvxpy"
   ]
  },
  {
   "cell_type": "code",
   "execution_count": 1,
   "id": "4cf42b6d",
   "metadata": {},
   "outputs": [
    {
     "name": "stdout",
     "output_type": "stream",
     "text": [
      "Optimal value: 115.99999999625518\n",
      "Optimal solution: [ 4. 24.]\n"
     ]
    }
   ],
   "source": [
    "import cvxpy as cp\n",
    "\n",
    "x = cp.Variable(2, nonneg=True)\n",
    "objective = cp.Maximize(5*x[0] + 4*x[1])\n",
    "constraints = [2*x[0] + 3*x[1] <= 80,\n",
    "               3*x[0] + 2*x[1] <= 60,\n",
    "               3*x[0] + 2*x[1] <= 100]\n",
    "prob = cp.Problem(objective, constraints)\n",
    "prob.solve()\n",
    "\n",
    "print(\"Optimal value:\", prob.value)\n",
    "print(\"Optimal solution:\", x.value)"
   ]
  },
  {
   "cell_type": "markdown",
   "id": "807b5595",
   "metadata": {},
   "source": [
    "## Using gurobipy"
   ]
  },
  {
   "cell_type": "code",
   "execution_count": 2,
   "id": "8c806eb0",
   "metadata": {},
   "outputs": [
    {
     "name": "stdout",
     "output_type": "stream",
     "text": [
      "Restricted license - for non-production use only - expires 2024-10-28\n"
     ]
    },
    {
     "name": "stdout",
     "output_type": "stream",
     "text": [
      "Optimal value: 116.00000000000001\n",
      "Optimal solution: [4.000000000000003, 24.0]\n"
     ]
    }
   ],
   "source": [
    "import gurobipy as gp\n",
    "\n",
    "model = gp.Model()\n",
    "model.setParam('OutputFlag', 0)\n",
    "\n",
    "x = model.addVars(2, lb=0, vtype=gp.GRB.CONTINUOUS)\n",
    "objective = 5*x[0] + 4*x[1]\n",
    "model.setObjective(objective, sense=gp.GRB.MAXIMIZE)\n",
    "model.addConstr(2*x[0] + 3*x[1] <= 80)\n",
    "model.addConstr(3*x[0] + 2*x[1] <= 60)\n",
    "model.addConstr(3*x[0] + 2*x[1] <= 100)\n",
    "model.optimize()\n",
    "\n",
    "print(\"Optimal value:\", model.objVal)\n",
    "print(\"Optimal solution:\", [x[i].x for i in range(2)])"
   ]
  },
  {
   "cell_type": "markdown",
   "id": "64381f16",
   "metadata": {},
   "source": [
    "## Using mosek"
   ]
  },
  {
   "cell_type": "code",
   "execution_count": 3,
   "id": "df31c6a1",
   "metadata": {},
   "outputs": [
    {
     "name": "stdout",
     "output_type": "stream",
     "text": [
      "Optimal value: 116.0\n",
      "Optimal solution: [ 4. 24.]\n"
     ]
    }
   ],
   "source": [
    "import mosek.fusion as mf\n",
    "\n",
    "M = mf.Model('LP example')\n",
    "\n",
    "# Define variables\n",
    "x = M.variable('x', 2, mf.Domain.greaterThan(0.0))\n",
    "\n",
    "# Define objective\n",
    "c = [5.0, 4.0]\n",
    "M.objective('obj', mf.ObjectiveSense.Maximize, mf.Expr.dot(c, x))\n",
    "\n",
    "# Define constraints\n",
    "A = [[2.0, 3.0], [3.0, 2.0], [3.0, 2.0]]\n",
    "b = [80.0, 60.0, 100.0]\n",
    "for i in range(len(A)):\n",
    "    M.constraint('c{}'.format(i), mf.Expr.dot(A[i], x), mf.Domain.lessThan(b[i]))\n",
    "\n",
    "# Solve the problem\n",
    "M.solve()\n",
    "\n",
    "# Print the results\n",
    "\n",
    "print(\"Optimal value:\", M.primalObjValue()) \n",
    "print(\"Optimal solution:\", x.level())"
   ]
  },
  {
   "cell_type": "markdown",
   "id": "8d4750ec",
   "metadata": {},
   "source": [
    "# Binary optimization problem \n",
    "$$\n",
    "\\begin{align*}\n",
    "&\\text{minimize} &x1 + x2 + x3 & \\\\\n",
    "&\\text{subject to} &x1 + x2 > 1 \\\\\n",
    "& & x2 + x3 \\le 1 \\\\\n",
    "& & x1, x2, x3 \\quad\\text{are binary variables}\n",
    "\\end{align*}\n",
    "$$"
   ]
  },
  {
   "cell_type": "code",
   "execution_count": 4,
   "id": "2b19d06e",
   "metadata": {},
   "outputs": [
    {
     "ename": "NotImplementedError",
     "evalue": "Strict inequalities are not allowed.",
     "output_type": "error",
     "traceback": [
      "\u001b[0;31m---------------------------------------------------------------------------\u001b[0m",
      "\u001b[0;31mNotImplementedError\u001b[0m                       Traceback (most recent call last)",
      "Cell \u001b[0;32mIn[4], line 14\u001b[0m\n\u001b[1;32m     11\u001b[0m obj \u001b[38;5;241m=\u001b[39m cp\u001b[38;5;241m.\u001b[39msum(x)\n\u001b[1;32m     13\u001b[0m \u001b[38;5;66;03m# Define constraints\u001b[39;00m\n\u001b[0;32m---> 14\u001b[0m constraints \u001b[38;5;241m=\u001b[39m [A[i] \u001b[38;5;241m@\u001b[39m x \u001b[38;5;241m>\u001b[39m b[i] \u001b[38;5;28;01mfor\u001b[39;00m i \u001b[38;5;129;01min\u001b[39;00m \u001b[38;5;28mrange\u001b[39m(\u001b[38;5;28mlen\u001b[39m(b))]\n\u001b[1;32m     15\u001b[0m constraints\u001b[38;5;241m.\u001b[39mappend(x[\u001b[38;5;241m0\u001b[39m] \u001b[38;5;241m>\u001b[39m\u001b[38;5;241m=\u001b[39m \u001b[38;5;241m0\u001b[39m) \u001b[38;5;66;03m# x1 is binary\u001b[39;00m\n\u001b[1;32m     16\u001b[0m constraints\u001b[38;5;241m.\u001b[39mappend(x[\u001b[38;5;241m1\u001b[39m] \u001b[38;5;241m>\u001b[39m\u001b[38;5;241m=\u001b[39m \u001b[38;5;241m0\u001b[39m) \u001b[38;5;66;03m# x2 is binary\u001b[39;00m\n",
      "Cell \u001b[0;32mIn[4], line 14\u001b[0m, in \u001b[0;36m<listcomp>\u001b[0;34m(.0)\u001b[0m\n\u001b[1;32m     11\u001b[0m obj \u001b[38;5;241m=\u001b[39m cp\u001b[38;5;241m.\u001b[39msum(x)\n\u001b[1;32m     13\u001b[0m \u001b[38;5;66;03m# Define constraints\u001b[39;00m\n\u001b[0;32m---> 14\u001b[0m constraints \u001b[38;5;241m=\u001b[39m [\u001b[43mA\u001b[49m\u001b[43m[\u001b[49m\u001b[43mi\u001b[49m\u001b[43m]\u001b[49m\u001b[43m \u001b[49m\u001b[38;5;241;43m@\u001b[39;49m\u001b[43m \u001b[49m\u001b[43mx\u001b[49m\u001b[43m \u001b[49m\u001b[38;5;241;43m>\u001b[39;49m\u001b[43m \u001b[49m\u001b[43mb\u001b[49m\u001b[43m[\u001b[49m\u001b[43mi\u001b[49m\u001b[43m]\u001b[49m \u001b[38;5;28;01mfor\u001b[39;00m i \u001b[38;5;129;01min\u001b[39;00m \u001b[38;5;28mrange\u001b[39m(\u001b[38;5;28mlen\u001b[39m(b))]\n\u001b[1;32m     15\u001b[0m constraints\u001b[38;5;241m.\u001b[39mappend(x[\u001b[38;5;241m0\u001b[39m] \u001b[38;5;241m>\u001b[39m\u001b[38;5;241m=\u001b[39m \u001b[38;5;241m0\u001b[39m) \u001b[38;5;66;03m# x1 is binary\u001b[39;00m\n\u001b[1;32m     16\u001b[0m constraints\u001b[38;5;241m.\u001b[39mappend(x[\u001b[38;5;241m1\u001b[39m] \u001b[38;5;241m>\u001b[39m\u001b[38;5;241m=\u001b[39m \u001b[38;5;241m0\u001b[39m) \u001b[38;5;66;03m# x2 is binary\u001b[39;00m\n",
      "File \u001b[0;32m/opt/homebrew/Caskroom/miniconda/base/envs/cvxpy_env/lib/python3.10/site-packages/cvxpy/expressions/expression.py:737\u001b[0m, in \u001b[0;36mExpression.__gt__\u001b[0;34m(self, other)\u001b[0m\n\u001b[1;32m    734\u001b[0m \u001b[38;5;28;01mdef\u001b[39;00m \u001b[38;5;21m__gt__\u001b[39m(\u001b[38;5;28mself\u001b[39m, other: \u001b[38;5;124m\"\u001b[39m\u001b[38;5;124mExpression\u001b[39m\u001b[38;5;124m\"\u001b[39m):\n\u001b[1;32m    735\u001b[0m \u001b[38;5;250m    \u001b[39m\u001b[38;5;124;03m\"\"\"Unsupported.\u001b[39;00m\n\u001b[1;32m    736\u001b[0m \u001b[38;5;124;03m    \"\"\"\u001b[39;00m\n\u001b[0;32m--> 737\u001b[0m     \u001b[38;5;28;01mraise\u001b[39;00m \u001b[38;5;167;01mNotImplementedError\u001b[39;00m(\u001b[38;5;124m\"\u001b[39m\u001b[38;5;124mStrict inequalities are not allowed.\u001b[39m\u001b[38;5;124m\"\u001b[39m)\n",
      "\u001b[0;31mNotImplementedError\u001b[0m: Strict inequalities are not allowed."
     ]
    }
   ],
   "source": [
    "import cvxpy as cp\n",
    "\n",
    "# Define problem data\n",
    "A = [[1, 1, 0], [0, 1, 1]]\n",
    "b = [1, 1]\n",
    "\n",
    "# Define binary decision variables\n",
    "x = cp.Variable(3, boolean=True)\n",
    "\n",
    "# Define objective function\n",
    "obj = cp.sum(x)\n",
    "\n",
    "# Define constraints\n",
    "constraints = [A[i] @ x > b[i] for i in range(len(b))]\n",
    "constraints.append(x[0] >= 0) # x1 is binary\n",
    "constraints.append(x[1] >= 0) # x2 is binary\n",
    "constraints.append(x[2] >= 0) # x3 is binary\n",
    "\n",
    "# Define problem instance and solve it\n",
    "prob = cp.Problem(cp.Minimize(obj), constraints)\n",
    "prob.solve(solver=cp.MOSEK)\n",
    "\n",
    "# Print results\n",
    "print(\"CVXPY Solution:\")\n",
    "print(\"status:\", prob.status)\n",
    "print(\"optimal value:\", prob.value)\n",
    "print(\"optimal x:\", x.value)"
   ]
  },
  {
   "cell_type": "code",
   "execution_count": null,
   "id": "8d2d9781",
   "metadata": {},
   "outputs": [],
   "source": [
    "import gurobipy as gp\n",
    "\n",
    "# Define problem data\n",
    "A = [[1, 1, 0], [0, 1, 1]]\n",
    "b = [1, 1]\n",
    "\n",
    "# Create a new optimization model\n",
    "model = gp.Model(\"binary_optimization\")\n",
    "\n",
    "# Define binary decision variables\n",
    "x = model.addVars(3, vtype=gp.GRB.BINARY, name=\"x\")\n",
    "\n",
    "# Define objective function\n",
    "obj = gp.quicksum(x[i] for i in range(len(x)))\n",
    "model.setObjective(obj, gp.GRB.MINIMIZE)\n",
    "\n",
    "# Define constraints\n",
    "for i in range(len(b)):\n",
    "    model.addConstr(A[i] @ [x[i] for i in range(len(x))] > b[i])\n",
    "\n",
    "# Solve problem\n",
    "model.optimize()\n",
    "\n",
    "# Print results\n",
    "print(\"Gurobi Solution:\")\n",
    "print(\"status:\", model.Status)\n",
    "print(\"optimal value:\", model.ObjVal)\n",
    "print(\"optimal x:\", [x[i].X for i in range(len(x))])"
   ]
  },
  {
   "cell_type": "code",
   "execution_count": null,
   "id": "48e84a90",
   "metadata": {},
   "outputs": [],
   "source": [
    "import mosek.fusion as mf\n",
    "\n",
    "# Define problem data\n",
    "A = [[1, 1, 0], [0, 1, 1]]\n",
    "b = [1, 1]\n",
    "\n",
    "# Create a new Fusion model\n",
    "M = mf.Model(\"Binary Optimization\")\n",
    "\n",
    "# Define binary decision variables\n",
    "x = M.variable(\"x\", 3, vtype=mf.VariableType.Binary)\n",
    "\n",
    "# Define objective function\n",
    "obj = M.sum(x)\n",
    "\n",
    "# Define constraints\n",
    "for i in range(len(b)):\n",
    "    M.constraint(A[i] @ x, mf.ConstraintType.Greater, b[i])\n",
    "\n",
    "# Set the objective and constraints\n",
    "M.objective(mf.ObjectiveSense.Minimize, obj)\n",
    "\n",
    "# Solve the problem\n",
    "M.solve()\n",
    "\n",
    "# Print results\n",
    "print(\"Mosek Fusion Solution:\")\n",
    "print(\"status:\", M.getProblemStatus(mf.SolutionType.Primal))\n",
    "print(\"optimal value:\", obj.level())\n",
    "print(\"optimal x:\", x.level())"
   ]
  }
 ],
 "metadata": {
  "jupytext": {
   "cell_metadata_filter": "-all",
   "formats": "md:myst",
   "text_representation": {
    "extension": ".md",
    "format_name": "myst",
    "format_version": 0.13,
    "jupytext_version": "1.11.5"
   }
  },
  "kernelspec": {
   "display_name": "Python 3",
   "language": "python",
   "name": "python3"
  },
  "language_info": {
   "codemirror_mode": {
    "name": "ipython",
    "version": 3
   },
   "file_extension": ".py",
   "mimetype": "text/x-python",
   "name": "python",
   "nbconvert_exporter": "python",
   "pygments_lexer": "ipython3",
   "version": "3.10.9"
  },
  "source_map": [
   14,
   40,
   53,
   57,
   73,
   76,
   101,
   113,
   143,
   174
  ]
 },
 "nbformat": 4,
 "nbformat_minor": 5
}